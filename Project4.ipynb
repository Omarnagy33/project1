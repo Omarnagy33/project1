{
 "cells": [
  {
   "cell_type": "markdown",
   "id": "9de21a16-aab1-4108-b384-f1b589a11148",
   "metadata": {},
   "source": [
    "### Import Libraries "
   ]
  },
  {
   "cell_type": "code",
   "execution_count": 122,
   "id": "74d994a4-f53a-4590-8cb7-a9fcd968d8f5",
   "metadata": {},
   "outputs": [],
   "source": [
    "import pandas as pd\n",
    "import seaborn as sns\n",
    "import matplotlib.pyplot as plt"
   ]
  },
  {
   "cell_type": "code",
   "execution_count": 123,
   "id": "d8578bb9-503b-420a-a220-510e96ab4dce",
   "metadata": {},
   "outputs": [],
   "source": [
    "data1 = pd.read_csv(\"Copy of AdidasUSSales_a1_kit102adeed.csv\")"
   ]
  },
  {
   "cell_type": "code",
   "execution_count": 124,
   "id": "49bd3ee4-9e9a-45a4-93c2-ac5a1999bf32",
   "metadata": {},
   "outputs": [
    {
     "data": {
      "text/html": [
       "<div>\n",
       "<style scoped>\n",
       "    .dataframe tbody tr th:only-of-type {\n",
       "        vertical-align: middle;\n",
       "    }\n",
       "\n",
       "    .dataframe tbody tr th {\n",
       "        vertical-align: top;\n",
       "    }\n",
       "\n",
       "    .dataframe thead th {\n",
       "        text-align: right;\n",
       "    }\n",
       "</style>\n",
       "<table border=\"1\" class=\"dataframe\">\n",
       "  <thead>\n",
       "    <tr style=\"text-align: right;\">\n",
       "      <th></th>\n",
       "      <th>Retailer</th>\n",
       "      <th>Retailer_ID</th>\n",
       "      <th>Invoice_Date</th>\n",
       "      <th>Region</th>\n",
       "      <th>State</th>\n",
       "      <th>City</th>\n",
       "      <th>Product</th>\n",
       "      <th>Price_per_Unit</th>\n",
       "      <th>Units_Sold</th>\n",
       "      <th>Total_Sales</th>\n",
       "      <th>Operating_Profit</th>\n",
       "      <th>Operating_Margin</th>\n",
       "      <th>Sales_Method</th>\n",
       "    </tr>\n",
       "  </thead>\n",
       "  <tbody>\n",
       "    <tr>\n",
       "      <th>0</th>\n",
       "      <td>Foot Locker</td>\n",
       "      <td>1,185,732</td>\n",
       "      <td>1/1/2020</td>\n",
       "      <td>Northeast</td>\n",
       "      <td>New York</td>\n",
       "      <td>New York</td>\n",
       "      <td>Men's Street Footwear</td>\n",
       "      <td>50</td>\n",
       "      <td>1,200</td>\n",
       "      <td>600,000</td>\n",
       "      <td>300,000</td>\n",
       "      <td>0</td>\n",
       "      <td>In-store</td>\n",
       "    </tr>\n",
       "    <tr>\n",
       "      <th>1</th>\n",
       "      <td>Foot Locker</td>\n",
       "      <td>1,185,732</td>\n",
       "      <td>2/1/2020</td>\n",
       "      <td>Northeast</td>\n",
       "      <td>New York</td>\n",
       "      <td>New York</td>\n",
       "      <td>Men's Athletic Footwear</td>\n",
       "      <td>50</td>\n",
       "      <td>1,000</td>\n",
       "      <td>500,000</td>\n",
       "      <td>150,000</td>\n",
       "      <td>0</td>\n",
       "      <td>In-store</td>\n",
       "    </tr>\n",
       "    <tr>\n",
       "      <th>2</th>\n",
       "      <td>Foot Locker</td>\n",
       "      <td>1,185,732</td>\n",
       "      <td>3/1/2020</td>\n",
       "      <td>Northeast</td>\n",
       "      <td>New York</td>\n",
       "      <td>New York</td>\n",
       "      <td>Women's Street Footwear</td>\n",
       "      <td>40</td>\n",
       "      <td>1,000</td>\n",
       "      <td>400,000</td>\n",
       "      <td>140,000</td>\n",
       "      <td>0</td>\n",
       "      <td>In-store</td>\n",
       "    </tr>\n",
       "    <tr>\n",
       "      <th>3</th>\n",
       "      <td>Foot Locker</td>\n",
       "      <td>1,185,732</td>\n",
       "      <td>4/1/2020</td>\n",
       "      <td>Northeast</td>\n",
       "      <td>New York</td>\n",
       "      <td>New York</td>\n",
       "      <td>Women's Athletic Footwear</td>\n",
       "      <td>45</td>\n",
       "      <td>850</td>\n",
       "      <td>382,500</td>\n",
       "      <td>133,875</td>\n",
       "      <td>0</td>\n",
       "      <td>In-store</td>\n",
       "    </tr>\n",
       "    <tr>\n",
       "      <th>4</th>\n",
       "      <td>Foot Locker</td>\n",
       "      <td>1,185,732</td>\n",
       "      <td>5/1/2020</td>\n",
       "      <td>Northeast</td>\n",
       "      <td>New York</td>\n",
       "      <td>New York</td>\n",
       "      <td>Men's Apparel</td>\n",
       "      <td>60</td>\n",
       "      <td>900</td>\n",
       "      <td>540,000</td>\n",
       "      <td>162,000</td>\n",
       "      <td>0</td>\n",
       "      <td>In-store</td>\n",
       "    </tr>\n",
       "  </tbody>\n",
       "</table>\n",
       "</div>"
      ],
      "text/plain": [
       "      Retailer  Retailer_ID Invoice_Date     Region     State      City  \\\n",
       "0  Foot Locker    1,185,732     1/1/2020  Northeast  New York  New York   \n",
       "1  Foot Locker    1,185,732     2/1/2020  Northeast  New York  New York   \n",
       "2  Foot Locker    1,185,732     3/1/2020  Northeast  New York  New York   \n",
       "3  Foot Locker    1,185,732     4/1/2020  Northeast  New York  New York   \n",
       "4  Foot Locker    1,185,732     5/1/2020  Northeast  New York  New York   \n",
       "\n",
       "                     Product  Price_per_Unit  Units_Sold  Total_Sales  \\\n",
       "0      Men's Street Footwear              50       1,200      600,000   \n",
       "1    Men's Athletic Footwear              50       1,000      500,000   \n",
       "2    Women's Street Footwear              40       1,000      400,000   \n",
       "3  Women's Athletic Footwear              45         850      382,500   \n",
       "4              Men's Apparel              60         900      540,000   \n",
       "\n",
       "   Operating_Profit  Operating_Margin Sales_Method  \n",
       "0           300,000                 0     In-store  \n",
       "1           150,000                 0     In-store  \n",
       "2           140,000                 0     In-store  \n",
       "3           133,875                 0     In-store  \n",
       "4           162,000                 0     In-store  "
      ]
     },
     "execution_count": 124,
     "metadata": {},
     "output_type": "execute_result"
    }
   ],
   "source": [
    "data1.head()"
   ]
  },
  {
   "cell_type": "code",
   "execution_count": 125,
   "id": "f101ecac-179f-4c59-be30-b4c48dc6d35d",
   "metadata": {},
   "outputs": [
    {
     "data": {
      "text/html": [
       "<div>\n",
       "<style scoped>\n",
       "    .dataframe tbody tr th:only-of-type {\n",
       "        vertical-align: middle;\n",
       "    }\n",
       "\n",
       "    .dataframe tbody tr th {\n",
       "        vertical-align: top;\n",
       "    }\n",
       "\n",
       "    .dataframe thead th {\n",
       "        text-align: right;\n",
       "    }\n",
       "</style>\n",
       "<table border=\"1\" class=\"dataframe\">\n",
       "  <thead>\n",
       "    <tr style=\"text-align: right;\">\n",
       "      <th></th>\n",
       "      <th>Retailer_ID</th>\n",
       "      <th>Price_per_Unit</th>\n",
       "      <th>Units_Sold</th>\n",
       "      <th>Total_Sales</th>\n",
       "      <th>Operating_Profit</th>\n",
       "      <th>Operating_Margin</th>\n",
       "    </tr>\n",
       "  </thead>\n",
       "  <tbody>\n",
       "    <tr>\n",
       "      <th>count</th>\n",
       "      <td>9,649</td>\n",
       "      <td>9,649</td>\n",
       "      <td>9,650</td>\n",
       "      <td>9,649</td>\n",
       "      <td>9,649</td>\n",
       "      <td>9,649</td>\n",
       "    </tr>\n",
       "    <tr>\n",
       "      <th>mean</th>\n",
       "      <td>1,173,728</td>\n",
       "      <td>90</td>\n",
       "      <td>816</td>\n",
       "      <td>186,528</td>\n",
       "      <td>34,422</td>\n",
       "      <td>0</td>\n",
       "    </tr>\n",
       "    <tr>\n",
       "      <th>std</th>\n",
       "      <td>28,941</td>\n",
       "      <td>4,440</td>\n",
       "      <td>38,948</td>\n",
       "      <td>9,161,387</td>\n",
       "      <td>54,191</td>\n",
       "      <td>0</td>\n",
       "    </tr>\n",
       "    <tr>\n",
       "      <th>min</th>\n",
       "      <td>0</td>\n",
       "      <td>0</td>\n",
       "      <td>0</td>\n",
       "      <td>0</td>\n",
       "      <td>0</td>\n",
       "      <td>0</td>\n",
       "    </tr>\n",
       "    <tr>\n",
       "      <th>25%</th>\n",
       "      <td>1,185,732</td>\n",
       "      <td>35</td>\n",
       "      <td>106</td>\n",
       "      <td>4,256</td>\n",
       "      <td>1,922</td>\n",
       "      <td>0</td>\n",
       "    </tr>\n",
       "    <tr>\n",
       "      <th>50%</th>\n",
       "      <td>1,185,732</td>\n",
       "      <td>45</td>\n",
       "      <td>176</td>\n",
       "      <td>9,576</td>\n",
       "      <td>4,371</td>\n",
       "      <td>0</td>\n",
       "    </tr>\n",
       "    <tr>\n",
       "      <th>75%</th>\n",
       "      <td>1,185,732</td>\n",
       "      <td>55</td>\n",
       "      <td>350</td>\n",
       "      <td>150,000</td>\n",
       "      <td>52,063</td>\n",
       "      <td>0</td>\n",
       "    </tr>\n",
       "    <tr>\n",
       "      <th>max</th>\n",
       "      <td>1,197,831</td>\n",
       "      <td>436,199</td>\n",
       "      <td>2,915,060</td>\n",
       "      <td>899,902,125</td>\n",
       "      <td>390,000</td>\n",
       "      <td>1</td>\n",
       "    </tr>\n",
       "  </tbody>\n",
       "</table>\n",
       "</div>"
      ],
      "text/plain": [
       "       Retailer_ID  Price_per_Unit  Units_Sold  Total_Sales  Operating_Profit  \\\n",
       "count        9,649           9,649       9,650        9,649             9,649   \n",
       "mean     1,173,728              90         816      186,528            34,422   \n",
       "std         28,941           4,440      38,948    9,161,387            54,191   \n",
       "min              0               0           0            0                 0   \n",
       "25%      1,185,732              35         106        4,256             1,922   \n",
       "50%      1,185,732              45         176        9,576             4,371   \n",
       "75%      1,185,732              55         350      150,000            52,063   \n",
       "max      1,197,831         436,199   2,915,060  899,902,125           390,000   \n",
       "\n",
       "       Operating_Margin  \n",
       "count             9,649  \n",
       "mean                  0  \n",
       "std                   0  \n",
       "min                   0  \n",
       "25%                   0  \n",
       "50%                   0  \n",
       "75%                   0  \n",
       "max                   1  "
      ]
     },
     "execution_count": 125,
     "metadata": {},
     "output_type": "execute_result"
    }
   ],
   "source": [
    "data1.describe()"
   ]
  },
  {
   "cell_type": "code",
   "execution_count": 126,
   "id": "91c3b77f-181e-46d0-90f7-ff8f5afd18fd",
   "metadata": {},
   "outputs": [
    {
     "data": {
      "text/plain": [
       "(9651, 13)"
      ]
     },
     "execution_count": 126,
     "metadata": {},
     "output_type": "execute_result"
    }
   ],
   "source": [
    "data1.shape"
   ]
  },
  {
   "cell_type": "code",
   "execution_count": 127,
   "id": "6d08a109-f9f9-45d0-b416-2322803e775c",
   "metadata": {},
   "outputs": [
    {
     "data": {
      "text/plain": [
       "Index(['Retailer', 'Retailer_ID', 'Invoice_Date', 'Region', 'State', 'City',\n",
       "       'Product', 'Price_per_Unit', 'Units_Sold', 'Total_Sales',\n",
       "       'Operating_Profit', 'Operating_Margin', 'Sales_Method'],\n",
       "      dtype='object')"
      ]
     },
     "execution_count": 127,
     "metadata": {},
     "output_type": "execute_result"
    }
   ],
   "source": [
    "data1.columns"
   ]
  },
  {
   "cell_type": "code",
   "execution_count": 128,
   "id": "438d2f0d-3094-4d37-bebc-3fee63d9f291",
   "metadata": {},
   "outputs": [
    {
     "name": "stdout",
     "output_type": "stream",
     "text": [
      "<class 'pandas.core.frame.DataFrame'>\n",
      "RangeIndex: 9651 entries, 0 to 9650\n",
      "Data columns (total 13 columns):\n",
      " #   Column            Non-Null Count  Dtype  \n",
      "---  ------            --------------  -----  \n",
      " 0   Retailer          9650 non-null   object \n",
      " 1   Retailer_ID       9649 non-null   float64\n",
      " 2   Invoice_Date      9648 non-null   object \n",
      " 3   Region            9648 non-null   object \n",
      " 4   State             9649 non-null   object \n",
      " 5   City              9649 non-null   object \n",
      " 6   Product           9649 non-null   object \n",
      " 7   Price_per_Unit    9649 non-null   float64\n",
      " 8   Units_Sold        9650 non-null   float64\n",
      " 9   Total_Sales       9649 non-null   float64\n",
      " 10  Operating_Profit  9649 non-null   float64\n",
      " 11  Operating_Margin  9649 non-null   float64\n",
      " 12  Sales_Method      9648 non-null   object \n",
      "dtypes: float64(6), object(7)\n",
      "memory usage: 980.3+ KB\n"
     ]
    }
   ],
   "source": [
    "data1.info()"
   ]
  },
  {
   "cell_type": "code",
   "execution_count": 129,
   "id": "5e043c66-8777-4f22-b4cf-bf8e8fe71b12",
   "metadata": {},
   "outputs": [
    {
     "data": {
      "text/plain": [
       "0       Northeast\n",
       "1       Northeast\n",
       "2       Northeast\n",
       "3       Northeast\n",
       "4       Northeast\n",
       "          ...    \n",
       "9646    Northeast\n",
       "9647    Northeast\n",
       "9648          NaN\n",
       "9649          NaN\n",
       "9650          NaN\n",
       "Name: Region, Length: 9651, dtype: object"
      ]
     },
     "execution_count": 129,
     "metadata": {},
     "output_type": "execute_result"
    }
   ],
   "source": [
    "data1['Region']"
   ]
  },
  {
   "cell_type": "code",
   "execution_count": 130,
   "id": "e1c24a5e-c5d7-4356-8190-09e2eb1577a5",
   "metadata": {},
   "outputs": [
    {
     "data": {
      "text/plain": [
       "0      1,185,732\n",
       "1      1,185,732\n",
       "2      1,185,732\n",
       "3      1,185,732\n",
       "4      1,185,732\n",
       "          ...   \n",
       "9646   1,185,732\n",
       "9647   1,185,732\n",
       "9648           0\n",
       "9649         NaN\n",
       "9650         NaN\n",
       "Name: Retailer_ID, Length: 9651, dtype: float64"
      ]
     },
     "execution_count": 130,
     "metadata": {},
     "output_type": "execute_result"
    }
   ],
   "source": [
    "data1['Retailer_ID']"
   ]
  },
  {
   "cell_type": "code",
   "execution_count": 131,
   "id": "91b2b215-de03-49ca-812c-44bda6a603e8",
   "metadata": {},
   "outputs": [
    {
     "data": {
      "text/plain": [
       "Retailer             object\n",
       "Retailer_ID         float64\n",
       "Invoice_Date         object\n",
       "Region               object\n",
       "State                object\n",
       "City                 object\n",
       "Product              object\n",
       "Price_per_Unit      float64\n",
       "Units_Sold          float64\n",
       "Total_Sales         float64\n",
       "Operating_Profit    float64\n",
       "Operating_Margin    float64\n",
       "Sales_Method         object\n",
       "dtype: object"
      ]
     },
     "execution_count": 131,
     "metadata": {},
     "output_type": "execute_result"
    }
   ],
   "source": [
    "data1.dtypes\n"
   ]
  },
  {
   "cell_type": "code",
   "execution_count": 132,
   "id": "eceb6d06-e6d5-4ebb-b996-0935f7ff67ce",
   "metadata": {},
   "outputs": [],
   "source": [
    "cat_data = data1.select_dtypes(\"O\")"
   ]
  },
  {
   "cell_type": "code",
   "execution_count": 133,
   "id": "c46d110c-7fd4-40d7-8044-c9132a71902e",
   "metadata": {},
   "outputs": [
    {
     "data": {
      "text/plain": [
       "Index(['Retailer', 'Invoice_Date', 'Region', 'State', 'City', 'Product',\n",
       "       'Sales_Method'],\n",
       "      dtype='object')"
      ]
     },
     "execution_count": 133,
     "metadata": {},
     "output_type": "execute_result"
    }
   ],
   "source": [
    "cat_data.columns"
   ]
  },
  {
   "cell_type": "code",
   "execution_count": 134,
   "id": "ab10aaa3-318d-4f8a-ae5e-b7078dde354c",
   "metadata": {},
   "outputs": [
    {
     "name": "stdout",
     "output_type": "stream",
     "text": [
      "Columns name :  Retailer --- unique values ['Foot Locker' 'Walmart' 'Sports Direct' 'West Gear' \"Kohl's\" 'Amazon' '0'\n",
      " nan]\n",
      "Columns name :  Invoice_Date --- unique values ['1/1/2020' '2/1/2020' '3/1/2020' '4/1/2020' '5/1/2020' '6/1/2020'\n",
      " '7/1/2020' '8/1/2020' '21/1/2020' '22/1/2020' '23/1/2020' '24/1/2020'\n",
      " '25/1/2020' '26/1/2020' '27/1/2020' '28/1/2020' '29/1/2020' '30/1/2020'\n",
      " '31/1/2020' '1/2/2020' '2/2/2020' '3/2/2020' '4/2/2020' '5/2/2020'\n",
      " '6/2/2020' '7/2/2020' '8/2/2020' '9/2/2020' '10/2/2020' '3/3/2020'\n",
      " '4/3/2020' '5/3/2020' '6/3/2020' '7/3/2020' '8/3/2020' '9/3/2020'\n",
      " '10/3/2020' '11/3/2020' '12/3/2020' '13/3/2020' '14/3/2020' '15/3/2020'\n",
      " '16/3/2020' '17/3/2020' '18/3/2020' '31/3/2020' '17/4/2020' '18/4/2020'\n",
      " '19/4/2020' '20/4/2020' '21/4/2020' '22/4/2020' '23/4/2020' '24/4/2020'\n",
      " '25/4/2020' '26/4/2020' '27/4/2020' '28/4/2020' '29/4/2020' '30/4/2020'\n",
      " '1/5/2020' '2/5/2020' '3/5/2020' '4/5/2020' '5/5/2020' '6/5/2020'\n",
      " '7/5/2020' '18/7/2020' '19/7/2020' '20/7/2020' '21/7/2020' '22/7/2020'\n",
      " '23/7/2020' '24/7/2020' '25/7/2020' '26/7/2020' '27/7/2020' '28/7/2020'\n",
      " '29/7/2020' '30/7/2020' '31/7/2020' '1/8/2020' '2/8/2020' '3/8/2020'\n",
      " '4/8/2020' '5/8/2020' '6/8/2020' '7/8/2020' '8/8/2020' '9/8/2020'\n",
      " '10/8/2020' '11/8/2020' '12/8/2020' '13/8/2020' '14/8/2020' '15/8/2020'\n",
      " '16/8/2020' '17/8/2020' '18/8/2020' '19/8/2020' '20/8/2020' '21/8/2020'\n",
      " '22/8/2020' '23/8/2020' '24/8/2020' '25/8/2020' '26/8/2020' '27/8/2020'\n",
      " '28/8/2020' '29/8/2020' '30/8/2020' '31/8/2020' '1/9/2020' '2/9/2020'\n",
      " '3/9/2020' '4/9/2020' '5/9/2020' '6/9/2020' '7/9/2020' '8/9/2020'\n",
      " '9/9/2020' '10/9/2020' '11/9/2020' '12/9/2020' '13/9/2020' '14/9/2020'\n",
      " '15/9/2020' '16/9/2020' '20/10/2020' '21/10/2020' '22/10/2020'\n",
      " '23/10/2020' '24/10/2020' '25/10/2020' '26/10/2020' '27/10/2020'\n",
      " '28/10/2020' '29/10/2020' '30/10/2020' '31/10/2020' '1/11/2020'\n",
      " '2/11/2020' '3/11/2020' '4/11/2020' '5/11/2020' '6/11/2020' '7/11/2020'\n",
      " '8/11/2020' '9/11/2020' '10/11/2020' '11/11/2020' '12/11/2020'\n",
      " '13/11/2020' '14/11/2020' '15/11/2020' '22/12/2020' '23/12/2020'\n",
      " '24/12/2020' '25/12/2020' '26/12/2020' '27/12/2020' '28/12/2020'\n",
      " '29/12/2020' '30/12/2020' '31/12/2020' '1/1/2021' '2/1/2021' '3/1/2021'\n",
      " '4/1/2021' '5/1/2021' '6/1/2021' '7/1/2021' '8/1/2021' '9/1/2021'\n",
      " '10/1/2021' '11/1/2021' '12/1/2021' '13/1/2021' '14/1/2021' '15/1/2021'\n",
      " '16/1/2021' '17/1/2021' '18/1/2021' '19/1/2021' '20/1/2021' '21/1/2021'\n",
      " '22/1/2021' '23/1/2021' '24/1/2021' '25/1/2021' '26/1/2021' '27/1/2021'\n",
      " '28/1/2021' '29/1/2021' '30/1/2021' '31/1/2021' '1/2/2021' '2/2/2021'\n",
      " '3/2/2021' '4/2/2021' '5/2/2021' '6/2/2021' '7/2/2021' '8/2/2021'\n",
      " '9/2/2021' '10/2/2021' '11/2/2021' '12/2/2021' '13/2/2021' '14/2/2021'\n",
      " '15/2/2021' '16/2/2021' '17/2/2021' '18/2/2021' '9/3/2021' '10/3/2021'\n",
      " '11/3/2021' '12/3/2021' '13/3/2021' '14/3/2021' '15/3/2021' '16/3/2021'\n",
      " '17/3/2021' '18/3/2021' '19/3/2021' '20/3/2021' '21/3/2021' '22/3/2021'\n",
      " '23/3/2021' '6/4/2021' '7/4/2021' '8/4/2021' '9/4/2021' '10/4/2021'\n",
      " '11/4/2021' '12/4/2021' '13/4/2021' '14/4/2021' '15/4/2021' '16/4/2021'\n",
      " '17/4/2021' '18/4/2021' '19/4/2021' '20/4/2021' '21/4/2021' '22/4/2021'\n",
      " '23/4/2021' '24/4/2021' '25/4/2021' '26/4/2021' '27/4/2021' '28/4/2021'\n",
      " '29/4/2021' '30/4/2021' '1/5/2021' '2/5/2021' '3/5/2021' '4/5/2021'\n",
      " '5/5/2021' '6/5/2021' '7/5/2021' '8/5/2021' '9/5/2021' '10/5/2021'\n",
      " '11/5/2021' '12/5/2021' '13/5/2021' '14/5/2021' '15/5/2021' '16/5/2021'\n",
      " '17/5/2021' '18/5/2021' '19/5/2021' '20/5/2021' '21/5/2021' '22/5/2021'\n",
      " '23/5/2021' '24/5/2021' '25/5/2021' '26/5/2021' '27/5/2021' '28/5/2021'\n",
      " '29/5/2021' '30/5/2021' '31/5/2021' '1/6/2021' '2/6/2021' '3/6/2021'\n",
      " '4/6/2021' '5/6/2021' '6/6/2021' '7/6/2021' '8/6/2021' '9/6/2021'\n",
      " '10/6/2021' '11/6/2021' '12/6/2021' '13/6/2021' '14/6/2021' '15/6/2021'\n",
      " '16/6/2021' '17/6/2021' '18/6/2021' '19/6/2021' '20/6/2021' '21/6/2021'\n",
      " '22/6/2021' '23/6/2021' '24/6/2021' '25/6/2021' '26/6/2021' '27/6/2021'\n",
      " '28/6/2021' '29/6/2021' '30/6/2021' '1/7/2021' '2/7/2021' '3/7/2021'\n",
      " '4/7/2021' '5/7/2021' '6/7/2021' '7/7/2021' '8/7/2021' '9/7/2021'\n",
      " '10/7/2021' '11/7/2021' '12/7/2021' '13/7/2021' '14/7/2021' '15/7/2021'\n",
      " '16/7/2021' '17/7/2021' '18/7/2021' '19/7/2021' '20/7/2021' '21/7/2021'\n",
      " '22/7/2021' '23/7/2021' '24/7/2021' '25/7/2021' '26/7/2021' '27/7/2021'\n",
      " '28/7/2021' '29/7/2021' '30/7/2021' '31/7/2021' '1/8/2021' '2/8/2021'\n",
      " '3/8/2021' '4/8/2021' '5/8/2021' '6/8/2021' '7/8/2021' '8/8/2021'\n",
      " '9/8/2021' '10/8/2021' '11/8/2021' '12/8/2021' '13/8/2021' '14/8/2021'\n",
      " '15/8/2021' '16/8/2021' '17/8/2021' '18/8/2021' '19/8/2021' '20/8/2021'\n",
      " '21/8/2021' '22/8/2021' '23/8/2021' '24/8/2021' '25/8/2021' '26/8/2021'\n",
      " '27/8/2021' '28/8/2021' '29/8/2021' '30/8/2021' '31/8/2021' '1/9/2021'\n",
      " '2/9/2021' '3/9/2021' '4/9/2021' '5/9/2021' '6/9/2021' '7/9/2021'\n",
      " '8/9/2021' '9/9/2021' '10/9/2021' '11/9/2021' '12/9/2021' '13/9/2021'\n",
      " '14/9/2021' '15/9/2021' '16/9/2021' '17/9/2021' '18/9/2021' '19/9/2021'\n",
      " '20/9/2021' '21/9/2021' '22/9/2021' '23/9/2021' '24/9/2021' '25/9/2021'\n",
      " '26/9/2021' '27/9/2021' '28/9/2021' '29/9/2021' '30/9/2021' '1/10/2021'\n",
      " '2/10/2021' '3/10/2021' '4/10/2021' '5/10/2021' '6/10/2021' '7/10/2021'\n",
      " '8/10/2021' '9/10/2021' '10/10/2021' '11/10/2021' '12/10/2021'\n",
      " '13/10/2021' '14/10/2021' '15/10/2021' '16/10/2021' '17/10/2021'\n",
      " '18/10/2021' '19/10/2021' '20/10/2021' '21/10/2021' '22/10/2021'\n",
      " '23/10/2021' '24/10/2021' '25/10/2021' '26/10/2021' '27/10/2021'\n",
      " '28/10/2021' '29/10/2021' '30/10/2021' '31/10/2021' '1/11/2021'\n",
      " '2/11/2021' '3/11/2021' '4/11/2021' '5/11/2021' '6/11/2021' '7/11/2021'\n",
      " '8/11/2021' '9/11/2021' '10/11/2021' '11/11/2021' '12/11/2021'\n",
      " '13/11/2021' '14/11/2021' '15/11/2021' '16/11/2021' '17/11/2021'\n",
      " '18/11/2021' '19/11/2021' '20/11/2021' '21/11/2021' '22/11/2021'\n",
      " '23/11/2021' '24/11/2021' '25/11/2021' '26/11/2021' '27/11/2021'\n",
      " '28/11/2021' '29/11/2021' '30/11/2021' '1/12/2021' '2/12/2021'\n",
      " '3/12/2021' '4/12/2021' '5/12/2021' '6/12/2021' '7/12/2021' '8/12/2021'\n",
      " '9/12/2021' '10/12/2021' '11/12/2021' '12/12/2021' '13/12/2021'\n",
      " '14/12/2021' '15/12/2021' '16/12/2021' '17/12/2021' '18/12/2021'\n",
      " '19/12/2021' '20/12/2021' '21/12/2021' '22/12/2021' '23/12/2021'\n",
      " '24/12/2021' '25/12/2021' '26/12/2021' '27/12/2021' '28/12/2021'\n",
      " '29/12/2021' '30/12/2021' '31/12/2021' '9/1/2020' '10/1/2020' '11/1/2020'\n",
      " '12/1/2020' '13/1/2020' '14/1/2020' '15/1/2020' '16/1/2020' '17/1/2020'\n",
      " '18/1/2020' '19/1/2020' '20/1/2020' '11/2/2020' '12/2/2020' '13/2/2020'\n",
      " '14/2/2020' '15/2/2020' '16/2/2020' '17/2/2020' '18/2/2020' '19/2/2020'\n",
      " '20/2/2020' '21/2/2020' '22/2/2020' '23/2/2020' '24/2/2020' '25/2/2020'\n",
      " '26/2/2020' '27/2/2020' '28/2/2020' '1/3/2020' '2/3/2020' '19/3/2020'\n",
      " '20/3/2020' '21/3/2020' '22/3/2020' '23/3/2020' '24/3/2020' '25/3/2020'\n",
      " '26/3/2020' '27/3/2020' '28/3/2020' '29/3/2020' '30/3/2020' '1/4/2020'\n",
      " '2/4/2020' '3/4/2020' '4/4/2020' '5/4/2020' '6/4/2020' '7/4/2020'\n",
      " '8/4/2020' '9/4/2020' '10/4/2020' '11/4/2020' '12/4/2020' '13/4/2020'\n",
      " '14/4/2020' '15/4/2020' '16/4/2020' '8/5/2020' '9/5/2020' '10/5/2020'\n",
      " '11/5/2020' '12/5/2020' '13/5/2020' '14/5/2020' '15/5/2020' '16/5/2020'\n",
      " '17/5/2020' '18/5/2020' '19/5/2020' '20/5/2020' '21/5/2020' '22/5/2020'\n",
      " '23/5/2020' '24/5/2020' '25/5/2020' '26/5/2020' '27/5/2020' '28/5/2020'\n",
      " '29/5/2020' '30/5/2020' '31/5/2020' '1/6/2020' '2/6/2020' '3/6/2020'\n",
      " '4/6/2020' '5/6/2020' '6/6/2020' '7/6/2020' '8/6/2020' '9/6/2020'\n",
      " '10/6/2020' '11/6/2020' '12/6/2020' '13/6/2020' '14/6/2020' '15/6/2020'\n",
      " '16/6/2020' '17/6/2020' '18/6/2020' '19/6/2020' '20/6/2020' '21/6/2020'\n",
      " '22/6/2020' '23/6/2020' '24/6/2020' '25/6/2020' '26/6/2020' '27/6/2020'\n",
      " '28/6/2020' '29/6/2020' '30/6/2020' '1/7/2020' '2/7/2020' '3/7/2020'\n",
      " '4/7/2020' '5/7/2020' '6/7/2020' '7/7/2020' '8/7/2020' '9/7/2020'\n",
      " '10/7/2020' '11/7/2020' '12/7/2020' '13/7/2020' '14/7/2020' '15/7/2020'\n",
      " '16/7/2020' '17/7/2020' '17/9/2020' '18/9/2020' '19/9/2020' '20/9/2020'\n",
      " '21/9/2020' '22/9/2020' '23/9/2020' '24/9/2020' '25/9/2020' '26/9/2020'\n",
      " '27/9/2020' '28/9/2020' '29/9/2020' '30/9/2020' '1/10/2020' '2/10/2020'\n",
      " '3/10/2020' '4/10/2020' '5/10/2020' '6/10/2020' '7/10/2020' '8/10/2020'\n",
      " '9/10/2020' '10/10/2020' '17/10/2020' '18/10/2020' '19/10/2020'\n",
      " '16/11/2020' '17/11/2020' '18/11/2020' '19/11/2020' '20/11/2020'\n",
      " '21/11/2020' '22/11/2020' '23/11/2020' '24/11/2020' '25/11/2020'\n",
      " '26/11/2020' '27/11/2020' '28/11/2020' '29/11/2020' '30/11/2020'\n",
      " '1/12/2020' '2/12/2020' '3/12/2020' '4/12/2020' '5/12/2020' '6/12/2020'\n",
      " '7/12/2020' '8/12/2020' '9/12/2020' '10/12/2020' '11/12/2020'\n",
      " '12/12/2020' '13/12/2020' '14/12/2020' '15/12/2020' '16/12/2020'\n",
      " '17/12/2020' '18/12/2020' '19/12/2020' '20/12/2020' '21/12/2020'\n",
      " '19/2/2021' '20/2/2021' '21/2/2021' '22/2/2021' '23/2/2021' '24/2/2021'\n",
      " '25/2/2021' '26/2/2021' '27/2/2021' '28/2/2021' '1/3/2021' '2/3/2021'\n",
      " '3/3/2021' '4/3/2021' '5/3/2021' '6/3/2021' '7/3/2021' '8/3/2021'\n",
      " '24/3/2021' '25/3/2021' '26/3/2021' '27/3/2021' '28/3/2021' '29/3/2021'\n",
      " '30/3/2021' '31/3/2021' '1/4/2021' '2/4/2021' '3/4/2021' '4/4/2021'\n",
      " '5/4/2021' nan]\n",
      "Columns name :  Region --- unique values ['Northeast' 'South' 'West' 'Midwest' 'Southeast' nan]\n",
      "Columns name :  State --- unique values ['New York' 'Texas' 'California' 'Illinois' 'Pennsylvania' 'Nevada'\n",
      " 'Colorado' 'Washington' 'Florida' 'Minnesota' 'Montana' 'Tennessee'\n",
      " 'Nebraska' 'Alabama' 'Maine' 'Alaska' 'Hawaii' 'Wyoming' 'Virginia'\n",
      " 'Michigan' 'Missouri' 'Utah' 'Oregon' 'Louisiana' 'Idaho' 'Arizona'\n",
      " 'New Mexico' 'Georgia' 'South Carolina' 'North Carolina' 'Ohio'\n",
      " 'Kentucky' 'Mississippi' 'Arkansas' 'Oklahoma' 'Kansas' 'South Dakota'\n",
      " 'North Dakota' 'Iowa' 'Wisconsin' 'Indiana' 'West Virginia' 'Maryland'\n",
      " 'Delaware' 'New Jersey' 'Connecticut' 'Rhode Island' 'Massachusetts'\n",
      " 'Vermont' 'New Hampshire' nan '0']\n",
      "Columns name :  City --- unique values ['New York' 'Houston' 'San Francisco' 'Los Angeles' 'Chicago' 'Dallas'\n",
      " 'Philadelphia' 'Las Vegas' 'Denver' 'Seattle' 'Miami' 'Minneapolis'\n",
      " 'Billings' 'Knoxville' 'Omaha' 'Birmingham' 'Portland' 'Anchorage'\n",
      " 'Honolulu' 'Orlando' 'Albany' 'Cheyenne' 'Richmond' 'Detroit' 'St. Louis'\n",
      " 'Salt Lake City' 'New Orleans' 'Boise' 'Phoenix' 'Albuquerque' 'Atlanta'\n",
      " 'Charleston' 'Charlotte' 'Columbus' 'Louisville' 'Jackson' 'Little Rock'\n",
      " 'Oklahoma City' 'Wichita' 'Sioux Falls' 'Fargo' 'Des Moines' 'Milwaukee'\n",
      " 'Indianapolis' 'Baltimore' 'Wilmington' 'Newark' 'Hartford' 'Providence'\n",
      " 'Boston' 'Burlington' 'Manchester' nan '0']\n",
      "Columns name :  Product --- unique values [\"Men's Street Footwear\" \"Men's Athletic Footwear\"\n",
      " \"Women's Street Footwear\" \"Women's Athletic Footwear\" \"Men's Apparel\"\n",
      " \"Women's Apparel\" nan '0']\n",
      "Columns name :  Sales_Method --- unique values ['In-store' 'Outlet' 'Online' nan]\n"
     ]
    }
   ],
   "source": [
    "for i in cat_data.columns:\n",
    "    print(\"Columns name : \" ,i,\"---\" ,\"unique values\" , data1[i].unique())"
   ]
  },
  {
   "cell_type": "markdown",
   "id": "350aec0b-d3dc-4691-affc-843f3c157a43",
   "metadata": {},
   "source": [
    "### Clean the data "
   ]
  },
  {
   "cell_type": "code",
   "execution_count": 135,
   "id": "1c9903ea-d236-4bba-987a-5aa27fc5c26c",
   "metadata": {},
   "outputs": [
    {
     "data": {
      "text/html": [
       "<div>\n",
       "<style scoped>\n",
       "    .dataframe tbody tr th:only-of-type {\n",
       "        vertical-align: middle;\n",
       "    }\n",
       "\n",
       "    .dataframe tbody tr th {\n",
       "        vertical-align: top;\n",
       "    }\n",
       "\n",
       "    .dataframe thead th {\n",
       "        text-align: right;\n",
       "    }\n",
       "</style>\n",
       "<table border=\"1\" class=\"dataframe\">\n",
       "  <thead>\n",
       "    <tr style=\"text-align: right;\">\n",
       "      <th></th>\n",
       "      <th>Retailer</th>\n",
       "      <th>Retailer_ID</th>\n",
       "      <th>Invoice_Date</th>\n",
       "      <th>Region</th>\n",
       "      <th>State</th>\n",
       "      <th>City</th>\n",
       "      <th>Product</th>\n",
       "      <th>Price_per_Unit</th>\n",
       "      <th>Units_Sold</th>\n",
       "      <th>Total_Sales</th>\n",
       "      <th>Operating_Profit</th>\n",
       "      <th>Operating_Margin</th>\n",
       "      <th>Sales_Method</th>\n",
       "    </tr>\n",
       "  </thead>\n",
       "  <tbody>\n",
       "    <tr>\n",
       "      <th>3045</th>\n",
       "      <td>Foot Locker</td>\n",
       "      <td>1,185,732</td>\n",
       "      <td>6/6/2021</td>\n",
       "      <td>Midwest</td>\n",
       "      <td>Iowa</td>\n",
       "      <td>Des Moines</td>\n",
       "      <td>Men's Street Footwear</td>\n",
       "      <td>35</td>\n",
       "      <td>525</td>\n",
       "      <td>183,750</td>\n",
       "      <td>55,125</td>\n",
       "      <td>0</td>\n",
       "      <td>In-store</td>\n",
       "    </tr>\n",
       "  </tbody>\n",
       "</table>\n",
       "</div>"
      ],
      "text/plain": [
       "         Retailer  Retailer_ID Invoice_Date   Region State        City  \\\n",
       "3045  Foot Locker    1,185,732     6/6/2021  Midwest  Iowa  Des Moines   \n",
       "\n",
       "                    Product  Price_per_Unit  Units_Sold  Total_Sales  \\\n",
       "3045  Men's Street Footwear              35         525      183,750   \n",
       "\n",
       "      Operating_Profit  Operating_Margin Sales_Method  \n",
       "3045            55,125                 0     In-store  "
      ]
     },
     "execution_count": 135,
     "metadata": {},
     "output_type": "execute_result"
    }
   ],
   "source": [
    "data1.sample()"
   ]
  },
  {
   "cell_type": "code",
   "execution_count": 136,
   "id": "44befe52-030f-4a2a-91d5-a0afe7b76b45",
   "metadata": {},
   "outputs": [],
   "source": [
    "data1.loc[:, 'Total_Sales'] = pd.to_numeric(data1['Total_Sales'], errors='coerce')\n",
    "data1.loc[:, 'Total_Sales'] = data1['Total_Sales'].fillna(0).astype(int)\n"
   ]
  },
  {
   "cell_type": "code",
   "execution_count": 137,
   "id": "98d91881-706a-4a1b-980e-5464a93d1165",
   "metadata": {},
   "outputs": [
    {
     "data": {
      "text/plain": [
       "0          600,000\n",
       "1          500,000\n",
       "2          400,000\n",
       "3          382,500\n",
       "4          540,000\n",
       "           ...    \n",
       "9646         2,940\n",
       "9647         2,407\n",
       "9648   899,902,125\n",
       "9649             0\n",
       "9650             0\n",
       "Name: Total_Sales, Length: 9651, dtype: float64"
      ]
     },
     "execution_count": 137,
     "metadata": {},
     "output_type": "execute_result"
    }
   ],
   "source": [
    "data1['Total_Sales']"
   ]
  },
  {
   "cell_type": "code",
   "execution_count": 138,
   "id": "d5ccbd63-921f-458c-bddb-2ef5641c4b9c",
   "metadata": {},
   "outputs": [],
   "source": [
    "# Make sure data1 is a real copy\n",
    "data1 = data1.copy()\n",
    "\n",
    "# Remove commas\n",
    "data1['Operating_Profit'] = data1['Operating_Profit'].astype(str).str.replace(\",\", \"\")\n",
    "\n",
    "# Convert to numeric and remove decimals\n",
    "data1['Operating_Profit'] = pd.to_numeric(data1['Operating_Profit'], errors='coerce').fillna(0).astype(int)"
   ]
  },
  {
   "cell_type": "code",
   "execution_count": 139,
   "id": "b294ab41-d889-4559-b68e-37b5cec1bcb1",
   "metadata": {},
   "outputs": [
    {
     "data": {
      "text/plain": [
       "0       300000\n",
       "1       150000\n",
       "2       140000\n",
       "3       133875\n",
       "4       162000\n",
       "         ...  \n",
       "9646      1235\n",
       "9647       650\n",
       "9648         0\n",
       "9649         0\n",
       "9650         0\n",
       "Name: Operating_Profit, Length: 9651, dtype: int64"
      ]
     },
     "execution_count": 139,
     "metadata": {},
     "output_type": "execute_result"
    }
   ],
   "source": [
    "data1['Operating_Profit']"
   ]
  },
  {
   "cell_type": "code",
   "execution_count": 140,
   "id": "7f8bd5ef-f99f-4507-a348-0e46e14468e3",
   "metadata": {},
   "outputs": [],
   "source": [
    "# Make sure data1 is a real copy\n",
    "data1 = data1.copy()\n",
    "\n",
    "# Remove commas\n",
    "data1['Price_per_Unit'] = data1['Price_per_Unit'].astype(str).str.replace(\",\", \"\")\n",
    "\n",
    "# Convert to numeric (float) and remove decimals if you want integers\n",
    "data1['Price_per_Unit'] = pd.to_numeric(data1['Price_per_Unit'], errors='coerce').fillna(0).astype(float)\n"
   ]
  },
  {
   "cell_type": "code",
   "execution_count": 141,
   "id": "4e3fb338-fcb3-44f5-9d05-5fdacc23026d",
   "metadata": {},
   "outputs": [
    {
     "data": {
      "text/plain": [
       "0           50\n",
       "1           50\n",
       "2           40\n",
       "3           45\n",
       "4           60\n",
       "         ...  \n",
       "9646        42\n",
       "9647        29\n",
       "9648   436,199\n",
       "9649         0\n",
       "9650         0\n",
       "Name: Price_per_Unit, Length: 9651, dtype: float64"
      ]
     },
     "execution_count": 141,
     "metadata": {},
     "output_type": "execute_result"
    }
   ],
   "source": [
    "data1['Price_per_Unit']"
   ]
  },
  {
   "cell_type": "code",
   "execution_count": 142,
   "id": "f2623b09-af5c-4a95-bcd0-8ca92c76f279",
   "metadata": {},
   "outputs": [],
   "source": [
    "# Make sure data1 is a real copy\n",
    "data1 = data1.copy()\n",
    "\n",
    "# Convert Invoice_Date to datetime\n",
    "data1['Invoice_Date'] = pd.to_datetime(data1['Invoice_Date'], errors='coerce')\n"
   ]
  },
  {
   "cell_type": "code",
   "execution_count": 143,
   "id": "733787a7-942c-420d-8335-27e46fccdf68",
   "metadata": {},
   "outputs": [],
   "source": [
    "# Make sure data1 is a real copy\n",
    "data1 = data1.copy()\n",
    "\n",
    "# Remove commas\n",
    "data1['Units_Sold'] = data1['Units_Sold'].astype(str).str.replace(\",\", \"\")\n",
    "\n",
    "# Convert to numeric and remove decimals\n",
    "data1['Units_Sold'] = pd.to_numeric(data1['Units_Sold'], errors='coerce').fillna(0).astype(int)\n"
   ]
  },
  {
   "cell_type": "code",
   "execution_count": 144,
   "id": "619afd36-88c3-4146-973b-b9c4aced042a",
   "metadata": {},
   "outputs": [
    {
     "data": {
      "text/plain": [
       "0          1200\n",
       "1          1000\n",
       "2          1000\n",
       "3           850\n",
       "4           900\n",
       "         ...   \n",
       "9646         70\n",
       "9647         83\n",
       "9648    2478861\n",
       "9649    2915060\n",
       "9650          0\n",
       "Name: Units_Sold, Length: 9651, dtype: int64"
      ]
     },
     "execution_count": 144,
     "metadata": {},
     "output_type": "execute_result"
    }
   ],
   "source": [
    "data1['Units_Sold']"
   ]
  },
  {
   "cell_type": "code",
   "execution_count": 145,
   "id": "537e876e-19dc-4da5-adf9-208577132399",
   "metadata": {},
   "outputs": [],
   "source": [
    "data1['Year'] = data1['Invoice_Date'].dt.year"
   ]
  },
  {
   "cell_type": "code",
   "execution_count": 146,
   "id": "35ceaf4c-3bcb-4d1d-8dcd-7c99f7341df3",
   "metadata": {},
   "outputs": [],
   "source": [
    "data1['Month'] = data1['Invoice_Date'].dt.month"
   ]
  },
  {
   "cell_type": "code",
   "execution_count": 147,
   "id": "376ac219-836a-42f5-a7f1-f82b83d4a754",
   "metadata": {},
   "outputs": [],
   "source": [
    "data1['Day'] = data1['Invoice_Date'].dt.day"
   ]
  },
  {
   "cell_type": "code",
   "execution_count": 148,
   "id": "cbbc3760-6e8f-4030-b014-8c3026eacf13",
   "metadata": {},
   "outputs": [
    {
     "data": {
      "text/plain": [
       "0      2020-01-01\n",
       "1      2020-02-01\n",
       "2      2020-03-01\n",
       "3      2020-04-01\n",
       "4      2020-05-01\n",
       "          ...    \n",
       "9646          NaT\n",
       "9647          NaT\n",
       "9648          NaT\n",
       "9649          NaT\n",
       "9650          NaT\n",
       "Name: Invoice_Date, Length: 9651, dtype: datetime64[ns]"
      ]
     },
     "execution_count": 148,
     "metadata": {},
     "output_type": "execute_result"
    }
   ],
   "source": [
    "data1['Invoice_Date']"
   ]
  },
  {
   "cell_type": "code",
   "execution_count": 149,
   "id": "a58e1409-8b3c-418b-beb7-3a5034dc79c7",
   "metadata": {},
   "outputs": [],
   "source": [
    "data1.drop(['Invoice_Date'], axis=1, inplace=True)"
   ]
  },
  {
   "cell_type": "code",
   "execution_count": 150,
   "id": "39fd1ddb-cd09-47c6-8aff-fd8b90472c39",
   "metadata": {},
   "outputs": [],
   "source": [
    "data1.drop(['Retailer_ID'], axis=1, inplace=True)"
   ]
  },
  {
   "cell_type": "code",
   "execution_count": 151,
   "id": "29729608-9e0d-4618-a55b-7319870b4708",
   "metadata": {},
   "outputs": [
    {
     "data": {
      "text/plain": [
       "array([5.00000e+01, 4.00000e+01, 4.50000e+01, 6.00000e+01, 5.50000e+01,\n",
       "       6.50000e+01, 7.00000e+01, 2.50000e+01, 3.50000e+01, 3.00000e+01,\n",
       "       8.00000e+01, 7.50000e+01, 2.00000e+01, 8.50000e+01, 1.00000e+02,\n",
       "       9.00000e+01, 9.50000e+01, 1.50000e+01, 1.00000e+01, 1.10000e+02,\n",
       "       1.05000e+02, 4.70000e+01, 3.60000e+01, 4.10000e+01, 4.60000e+01,\n",
       "       4.40000e+01, 5.80000e+01, 4.80000e+01, 3.90000e+01, 4.30000e+01,\n",
       "       5.90000e+01, 5.60000e+01, 4.90000e+01, 5.40000e+01, 6.40000e+01,\n",
       "       5.30000e+01, 6.10000e+01, 6.20000e+01, 6.80000e+01, 5.20000e+01,\n",
       "       6.60000e+01, 5.10000e+01, 2.40000e+01, 3.40000e+01, 3.30000e+01,\n",
       "       2.30000e+01, 3.20000e+01, 3.80000e+01, 2.90000e+01, 3.70000e+01,\n",
       "       2.70000e+01, 4.20000e+01, 7.20000e+01, 6.30000e+01, 6.90000e+01,\n",
       "       7.60000e+01, 6.70000e+01, 5.70000e+01, 2.80000e+01, 1.80000e+01,\n",
       "       1.90000e+01, 7.10000e+01, 7.80000e+01, 7.30000e+01, 7.40000e+01,\n",
       "       8.30000e+01, 8.20000e+01, 9.80000e+01, 7.70000e+01, 8.80000e+01,\n",
       "       8.60000e+01, 1.40000e+01, 9.00000e+00, 9.70000e+01, 8.10000e+01,\n",
       "       7.90000e+01, 9.60000e+01, 8.40000e+01, 8.90000e+01, 1.03000e+02,\n",
       "       1.01000e+02, 8.70000e+01, 9.20000e+01, 3.10000e+01, 2.60000e+01,\n",
       "       2.10000e+01, 1.30000e+01, 2.20000e+01, 1.70000e+01, 1.20000e+01,\n",
       "       1.60000e+01, 1.10000e+01, 7.00000e+00, 8.00000e+00, 0.00000e+00,\n",
       "       4.36199e+05])"
      ]
     },
     "execution_count": 151,
     "metadata": {},
     "output_type": "execute_result"
    }
   ],
   "source": [
    "data1['Price_per_Unit'].unique()"
   ]
  },
  {
   "cell_type": "code",
   "execution_count": 152,
   "id": "fd21fbba-fc16-4b93-ae0b-1469d5561f73",
   "metadata": {},
   "outputs": [
    {
     "data": {
      "text/plain": [
       "Retailer               1\n",
       "Region                 3\n",
       "State                  2\n",
       "City                   2\n",
       "Product                2\n",
       "Price_per_Unit         0\n",
       "Units_Sold             0\n",
       "Total_Sales            0\n",
       "Operating_Profit       0\n",
       "Operating_Margin       2\n",
       "Sales_Method           3\n",
       "Year                5586\n",
       "Month               5586\n",
       "Day                 5586\n",
       "dtype: int64"
      ]
     },
     "execution_count": 152,
     "metadata": {},
     "output_type": "execute_result"
    }
   ],
   "source": [
    "data1.isnull().sum()"
   ]
  },
  {
   "cell_type": "code",
   "execution_count": 153,
   "id": "65c4f375-be9b-49ad-9909-eaa3b33e3f32",
   "metadata": {},
   "outputs": [],
   "source": [
    "Region= data1.Region.mode()[0]\n",
    "data1.Region = data1.Region.fillna(Region)"
   ]
  },
  {
   "cell_type": "code",
   "execution_count": 154,
   "id": "88e8fe6d-170d-410d-9eb9-0bb42556b323",
   "metadata": {},
   "outputs": [],
   "source": [
    "data1['City'] = data1['City'].fillna(data1['City'].mode()[0])\n",
    "data1['State'] = data1['State'].fillna(data1['State'].mode()[0])\n",
    "data1['Product'] = data1['Product'].fillna(data1['Product'].mode()[0])\n",
    "data1['Sales_Method'] = data1['Sales_Method'].fillna(data1['Sales_Method'].mode()[0])"
   ]
  },
  {
   "cell_type": "code",
   "execution_count": 155,
   "id": "b29efe8c-7f3e-4572-ace2-b24fb7ef123e",
   "metadata": {},
   "outputs": [],
   "source": [
    "data1['Year'] = data1['Year'].fillna(data1['Year'].mode()[0]).astype(int)\n",
    "data1['Month'] = data1['Month'].fillna(data1['Month'].mode()[0]).astype(int)"
   ]
  },
  {
   "cell_type": "code",
   "execution_count": 156,
   "id": "84448cf5-ac4e-4054-a3b5-77e444937245",
   "metadata": {},
   "outputs": [
    {
     "data": {
      "text/plain": [
       "Retailer               1\n",
       "Region                 0\n",
       "State                  0\n",
       "City                   0\n",
       "Product                0\n",
       "Price_per_Unit         0\n",
       "Units_Sold             0\n",
       "Total_Sales            0\n",
       "Operating_Profit       0\n",
       "Operating_Margin       2\n",
       "Sales_Method           0\n",
       "Year                   0\n",
       "Month                  0\n",
       "Day                 5586\n",
       "dtype: int64"
      ]
     },
     "execution_count": 156,
     "metadata": {},
     "output_type": "execute_result"
    }
   ],
   "source": [
    "data1.isnull().sum()"
   ]
  },
  {
   "cell_type": "code",
   "execution_count": 157,
   "id": "4dfd6d21-4d54-4a6d-a6f7-2695ee0ffd1f",
   "metadata": {},
   "outputs": [
    {
     "data": {
      "text/plain": [
       "<pandas.core.groupby.generic.DataFrameGroupBy object at 0x0000026901A83A00>"
      ]
     },
     "execution_count": 157,
     "metadata": {},
     "output_type": "execute_result"
    }
   ],
   "source": [
    "data1.groupby(\"Region\")\n"
   ]
  },
  {
   "cell_type": "code",
   "execution_count": 158,
   "id": "9746eee2-561e-4b48-8397-2fa3c1ddbea6",
   "metadata": {},
   "outputs": [
    {
     "data": {
      "text/plain": [
       "Region\n",
       "Midwest      72,543\n",
       "Northeast    78,419\n",
       "South        83,717\n",
       "Southeast   133,310\n",
       "West        477,293\n",
       "Name: Total_Sales, dtype: float64"
      ]
     },
     "execution_count": 158,
     "metadata": {},
     "output_type": "execute_result"
    }
   ],
   "source": [
    "data1.groupby(\"Region\")[\"Total_Sales\"].mean()                      "
   ]
  },
  {
   "cell_type": "code",
   "execution_count": 159,
   "id": "fff471f3-120f-4a64-a45d-346998d9ff2f",
   "metadata": {},
   "outputs": [
    {
     "data": {
      "text/plain": [
       "Region\n",
       "Midwest         618,750\n",
       "Northeast       780,000\n",
       "South           825,000\n",
       "Southeast       825,000\n",
       "West        899,902,125\n",
       "Name: Total_Sales, dtype: float64"
      ]
     },
     "execution_count": 159,
     "metadata": {},
     "output_type": "execute_result"
    }
   ],
   "source": [
    "data1.groupby(\"Region\")[\"Total_Sales\"].max()                      "
   ]
  },
  {
   "cell_type": "code",
   "execution_count": 160,
   "id": "ed06077c-08c1-454a-8665-b16c1502e5a9",
   "metadata": {},
   "outputs": [
    {
     "data": {
      "text/plain": [
       "Region\n",
       "Midwest       0\n",
       "Northeast   160\n",
       "South       506\n",
       "Southeast   754\n",
       "West          0\n",
       "Name: Total_Sales, dtype: float64"
      ]
     },
     "execution_count": 160,
     "metadata": {},
     "output_type": "execute_result"
    }
   ],
   "source": [
    "data1.groupby(\"Region\")[\"Total_Sales\"].min()                      "
   ]
  },
  {
   "cell_type": "code",
   "execution_count": 161,
   "id": "90813232-8c04-4910-8833-e3395fa8bb1d",
   "metadata": {},
   "outputs": [
    {
     "data": {
      "text/plain": [
       "Product\n",
       "0                                 0\n",
       "Men's Apparel                77,041\n",
       "Men's Athletic Footwear     653,583\n",
       "Men's Street Footwear       129,706\n",
       "Women's Apparel             111,343\n",
       "Women's Athletic Footwear    66,396\n",
       "Women's Street Footwear      79,604\n",
       "Name: Total_Sales, dtype: float64"
      ]
     },
     "execution_count": 161,
     "metadata": {},
     "output_type": "execute_result"
    }
   ],
   "source": [
    "data1.groupby(\"Product\")[\"Total_Sales\"].mean()                      "
   ]
  },
  {
   "cell_type": "code",
   "execution_count": 162,
   "id": "ca7905ae-3644-49af-abee-417e0b1a5cc2",
   "metadata": {},
   "outputs": [
    {
     "data": {
      "text/html": [
       "<div>\n",
       "<style scoped>\n",
       "    .dataframe tbody tr th:only-of-type {\n",
       "        vertical-align: middle;\n",
       "    }\n",
       "\n",
       "    .dataframe tbody tr th {\n",
       "        vertical-align: top;\n",
       "    }\n",
       "\n",
       "    .dataframe thead th {\n",
       "        text-align: right;\n",
       "    }\n",
       "</style>\n",
       "<table border=\"1\" class=\"dataframe\">\n",
       "  <thead>\n",
       "    <tr style=\"text-align: right;\">\n",
       "      <th></th>\n",
       "      <th>mean</th>\n",
       "      <th>sum</th>\n",
       "      <th>max</th>\n",
       "      <th>min</th>\n",
       "    </tr>\n",
       "    <tr>\n",
       "      <th>Region</th>\n",
       "      <th></th>\n",
       "      <th></th>\n",
       "      <th></th>\n",
       "      <th></th>\n",
       "    </tr>\n",
       "  </thead>\n",
       "  <tbody>\n",
       "    <tr>\n",
       "      <th>Midwest</th>\n",
       "      <td>72,543</td>\n",
       "      <td>135,800,459</td>\n",
       "      <td>618,750</td>\n",
       "      <td>0</td>\n",
       "    </tr>\n",
       "    <tr>\n",
       "      <th>Northeast</th>\n",
       "      <td>78,419</td>\n",
       "      <td>186,324,067</td>\n",
       "      <td>780,000</td>\n",
       "      <td>160</td>\n",
       "    </tr>\n",
       "    <tr>\n",
       "      <th>South</th>\n",
       "      <td>83,717</td>\n",
       "      <td>144,663,181</td>\n",
       "      <td>825,000</td>\n",
       "      <td>506</td>\n",
       "    </tr>\n",
       "    <tr>\n",
       "      <th>Southeast</th>\n",
       "      <td>133,310</td>\n",
       "      <td>163,171,236</td>\n",
       "      <td>825,000</td>\n",
       "      <td>754</td>\n",
       "    </tr>\n",
       "    <tr>\n",
       "      <th>West</th>\n",
       "      <td>477,293</td>\n",
       "      <td>1,169,845,307</td>\n",
       "      <td>899,902,125</td>\n",
       "      <td>0</td>\n",
       "    </tr>\n",
       "  </tbody>\n",
       "</table>\n",
       "</div>"
      ],
      "text/plain": [
       "             mean           sum         max  min\n",
       "Region                                          \n",
       "Midwest    72,543   135,800,459     618,750    0\n",
       "Northeast  78,419   186,324,067     780,000  160\n",
       "South      83,717   144,663,181     825,000  506\n",
       "Southeast 133,310   163,171,236     825,000  754\n",
       "West      477,293 1,169,845,307 899,902,125    0"
      ]
     },
     "execution_count": 162,
     "metadata": {},
     "output_type": "execute_result"
    }
   ],
   "source": [
    "data1.groupby(\"Region\")[\"Total_Sales\"].agg([\"mean\", \"sum\", \"max\",\"min\"])"
   ]
  },
  {
   "cell_type": "code",
   "execution_count": 163,
   "id": "74deb3f6-2d1a-43a7-b697-c3c97d6a8d89",
   "metadata": {},
   "outputs": [
    {
     "data": {
      "text/plain": [
       "Product\n",
       "0                             0\n",
       "Men's Apparel                50\n",
       "Men's Athletic Footwear     314\n",
       "Men's Street Footwear        44\n",
       "Women's Apparel              52\n",
       "Women's Athletic Footwear    41\n",
       "Women's Street Footwear      40\n",
       "Name: Price_per_Unit, dtype: float64"
      ]
     },
     "execution_count": 163,
     "metadata": {},
     "output_type": "execute_result"
    }
   ],
   "source": [
    "data1.groupby(\"Product\")[\"Price_per_Unit\"].agg(\"mean\")\n"
   ]
  },
  {
   "cell_type": "code",
   "execution_count": 164,
   "id": "1ba6aa51-4d5f-460c-b43e-786b6a6ef56b",
   "metadata": {},
   "outputs": [
    {
     "data": {
      "text/html": [
       "<div>\n",
       "<style scoped>\n",
       "    .dataframe tbody tr th:only-of-type {\n",
       "        vertical-align: middle;\n",
       "    }\n",
       "\n",
       "    .dataframe tbody tr th {\n",
       "        vertical-align: top;\n",
       "    }\n",
       "\n",
       "    .dataframe thead th {\n",
       "        text-align: right;\n",
       "    }\n",
       "</style>\n",
       "<table border=\"1\" class=\"dataframe\">\n",
       "  <thead>\n",
       "    <tr style=\"text-align: right;\">\n",
       "      <th></th>\n",
       "      <th>mean</th>\n",
       "      <th>sum</th>\n",
       "      <th>max</th>\n",
       "      <th>min</th>\n",
       "    </tr>\n",
       "    <tr>\n",
       "      <th>Product</th>\n",
       "      <th></th>\n",
       "      <th></th>\n",
       "      <th></th>\n",
       "      <th></th>\n",
       "    </tr>\n",
       "  </thead>\n",
       "  <tbody>\n",
       "    <tr>\n",
       "      <th>0</th>\n",
       "      <td>0</td>\n",
       "      <td>0</td>\n",
       "      <td>0</td>\n",
       "      <td>0</td>\n",
       "    </tr>\n",
       "    <tr>\n",
       "      <th>Men's Apparel</th>\n",
       "      <td>77,041</td>\n",
       "      <td>123,728,632</td>\n",
       "      <td>617,500</td>\n",
       "      <td>252</td>\n",
       "    </tr>\n",
       "    <tr>\n",
       "      <th>Men's Athletic Footwear</th>\n",
       "      <td>653,583</td>\n",
       "      <td>1,053,575,805</td>\n",
       "      <td>899,902,125</td>\n",
       "      <td>0</td>\n",
       "    </tr>\n",
       "    <tr>\n",
       "      <th>Men's Street Footwear</th>\n",
       "      <td>129,706</td>\n",
       "      <td>208,826,244</td>\n",
       "      <td>810,000</td>\n",
       "      <td>1,568</td>\n",
       "    </tr>\n",
       "    <tr>\n",
       "      <th>Women's Apparel</th>\n",
       "      <td>111,343</td>\n",
       "      <td>179,038,860</td>\n",
       "      <td>825,000</td>\n",
       "      <td>910</td>\n",
       "    </tr>\n",
       "    <tr>\n",
       "      <th>Women's Athletic Footwear</th>\n",
       "      <td>66,396</td>\n",
       "      <td>106,631,896</td>\n",
       "      <td>540,000</td>\n",
       "      <td>0</td>\n",
       "    </tr>\n",
       "    <tr>\n",
       "      <th>Women's Street Footwear</th>\n",
       "      <td>79,604</td>\n",
       "      <td>128,002,813</td>\n",
       "      <td>665,000</td>\n",
       "      <td>369</td>\n",
       "    </tr>\n",
       "  </tbody>\n",
       "</table>\n",
       "</div>"
      ],
      "text/plain": [
       "                             mean           sum         max   min\n",
       "Product                                                          \n",
       "0                               0             0           0     0\n",
       "Men's Apparel              77,041   123,728,632     617,500   252\n",
       "Men's Athletic Footwear   653,583 1,053,575,805 899,902,125     0\n",
       "Men's Street Footwear     129,706   208,826,244     810,000 1,568\n",
       "Women's Apparel           111,343   179,038,860     825,000   910\n",
       "Women's Athletic Footwear  66,396   106,631,896     540,000     0\n",
       "Women's Street Footwear    79,604   128,002,813     665,000   369"
      ]
     },
     "execution_count": 164,
     "metadata": {},
     "output_type": "execute_result"
    }
   ],
   "source": [
    "data1.groupby(\"Product\")[\"Total_Sales\"].agg([\"mean\", \"sum\", \"max\",\"min\"])"
   ]
  },
  {
   "cell_type": "code",
   "execution_count": 165,
   "id": "e06139f4-531a-4edd-9879-e14dc4c3be25",
   "metadata": {},
   "outputs": [
    {
     "data": {
      "text/html": [
       "<div>\n",
       "<style scoped>\n",
       "    .dataframe tbody tr th:only-of-type {\n",
       "        vertical-align: middle;\n",
       "    }\n",
       "\n",
       "    .dataframe tbody tr th {\n",
       "        vertical-align: top;\n",
       "    }\n",
       "\n",
       "    .dataframe thead th {\n",
       "        text-align: right;\n",
       "    }\n",
       "</style>\n",
       "<table border=\"1\" class=\"dataframe\">\n",
       "  <thead>\n",
       "    <tr style=\"text-align: right;\">\n",
       "      <th></th>\n",
       "      <th>mean</th>\n",
       "      <th>sum</th>\n",
       "      <th>max</th>\n",
       "      <th>min</th>\n",
       "    </tr>\n",
       "    <tr>\n",
       "      <th>Sales_Method</th>\n",
       "      <th></th>\n",
       "      <th></th>\n",
       "      <th></th>\n",
       "      <th></th>\n",
       "    </tr>\n",
       "  </thead>\n",
       "  <tbody>\n",
       "    <tr>\n",
       "      <th>In-store</th>\n",
       "      <td>204,968</td>\n",
       "      <td>356,643,750</td>\n",
       "      <td>825,000</td>\n",
       "      <td>7,500</td>\n",
       "    </tr>\n",
       "    <tr>\n",
       "      <th>Online</th>\n",
       "      <td>234,582</td>\n",
       "      <td>1,147,575,007</td>\n",
       "      <td>899,902,125</td>\n",
       "      <td>0</td>\n",
       "    </tr>\n",
       "    <tr>\n",
       "      <th>Outlet</th>\n",
       "      <td>97,908</td>\n",
       "      <td>295,585,493</td>\n",
       "      <td>780,000</td>\n",
       "      <td>0</td>\n",
       "    </tr>\n",
       "  </tbody>\n",
       "</table>\n",
       "</div>"
      ],
      "text/plain": [
       "                mean           sum         max   min\n",
       "Sales_Method                                        \n",
       "In-store     204,968   356,643,750     825,000 7,500\n",
       "Online       234,582 1,147,575,007 899,902,125     0\n",
       "Outlet        97,908   295,585,493     780,000     0"
      ]
     },
     "execution_count": 165,
     "metadata": {},
     "output_type": "execute_result"
    }
   ],
   "source": [
    "data1.groupby(\"Sales_Method\")[\"Total_Sales\"].agg([\"mean\", \"sum\", \"max\",\"min\"])\n"
   ]
  },
  {
   "cell_type": "code",
   "execution_count": 166,
   "id": "65b287d3-342e-4f49-9a23-4e7e2c6b7b35",
   "metadata": {},
   "outputs": [
    {
     "data": {
      "text/html": [
       "<div>\n",
       "<style scoped>\n",
       "    .dataframe tbody tr th:only-of-type {\n",
       "        vertical-align: middle;\n",
       "    }\n",
       "\n",
       "    .dataframe tbody tr th {\n",
       "        vertical-align: top;\n",
       "    }\n",
       "\n",
       "    .dataframe thead th {\n",
       "        text-align: right;\n",
       "    }\n",
       "</style>\n",
       "<table border=\"1\" class=\"dataframe\">\n",
       "  <thead>\n",
       "    <tr style=\"text-align: right;\">\n",
       "      <th></th>\n",
       "      <th>Retailer</th>\n",
       "      <th>Region</th>\n",
       "      <th>State</th>\n",
       "      <th>City</th>\n",
       "      <th>Product</th>\n",
       "      <th>Price_per_Unit</th>\n",
       "      <th>Units_Sold</th>\n",
       "      <th>Total_Sales</th>\n",
       "      <th>Operating_Profit</th>\n",
       "      <th>Operating_Margin</th>\n",
       "      <th>Sales_Method</th>\n",
       "      <th>Year</th>\n",
       "      <th>Month</th>\n",
       "      <th>Day</th>\n",
       "    </tr>\n",
       "  </thead>\n",
       "  <tbody>\n",
       "    <tr>\n",
       "      <th>9648</th>\n",
       "      <td>0</td>\n",
       "      <td>West</td>\n",
       "      <td>California</td>\n",
       "      <td>Portland</td>\n",
       "      <td>Men's Athletic Footwear</td>\n",
       "      <td>436,199</td>\n",
       "      <td>2478861</td>\n",
       "      <td>899,902,125</td>\n",
       "      <td>0</td>\n",
       "      <td>0</td>\n",
       "      <td>Online</td>\n",
       "      <td>2021</td>\n",
       "      <td>10</td>\n",
       "      <td>NaN</td>\n",
       "    </tr>\n",
       "    <tr>\n",
       "      <th>1394</th>\n",
       "      <td>Walmart</td>\n",
       "      <td>Southeast</td>\n",
       "      <td>Florida</td>\n",
       "      <td>Orlando</td>\n",
       "      <td>Women's Apparel</td>\n",
       "      <td>110</td>\n",
       "      <td>750</td>\n",
       "      <td>825,000</td>\n",
       "      <td>371250</td>\n",
       "      <td>0</td>\n",
       "      <td>In-store</td>\n",
       "      <td>2021</td>\n",
       "      <td>10</td>\n",
       "      <td>NaN</td>\n",
       "    </tr>\n",
       "    <tr>\n",
       "      <th>1970</th>\n",
       "      <td>West Gear</td>\n",
       "      <td>South</td>\n",
       "      <td>Louisiana</td>\n",
       "      <td>New Orleans</td>\n",
       "      <td>Women's Apparel</td>\n",
       "      <td>110</td>\n",
       "      <td>750</td>\n",
       "      <td>825,000</td>\n",
       "      <td>288750</td>\n",
       "      <td>0</td>\n",
       "      <td>Online</td>\n",
       "      <td>2021</td>\n",
       "      <td>10</td>\n",
       "      <td>NaN</td>\n",
       "    </tr>\n",
       "    <tr>\n",
       "      <th>1971</th>\n",
       "      <td>West Gear</td>\n",
       "      <td>South</td>\n",
       "      <td>Louisiana</td>\n",
       "      <td>New Orleans</td>\n",
       "      <td>Men's Street Footwear</td>\n",
       "      <td>90</td>\n",
       "      <td>900</td>\n",
       "      <td>810,000</td>\n",
       "      <td>324000</td>\n",
       "      <td>0</td>\n",
       "      <td>Online</td>\n",
       "      <td>2021</td>\n",
       "      <td>10</td>\n",
       "      <td>NaN</td>\n",
       "    </tr>\n",
       "    <tr>\n",
       "      <th>1395</th>\n",
       "      <td>Walmart</td>\n",
       "      <td>Southeast</td>\n",
       "      <td>Florida</td>\n",
       "      <td>Orlando</td>\n",
       "      <td>Men's Street Footwear</td>\n",
       "      <td>90</td>\n",
       "      <td>900</td>\n",
       "      <td>810,000</td>\n",
       "      <td>243000</td>\n",
       "      <td>0</td>\n",
       "      <td>In-store</td>\n",
       "      <td>2021</td>\n",
       "      <td>10</td>\n",
       "      <td>NaN</td>\n",
       "    </tr>\n",
       "    <tr>\n",
       "      <th>1401</th>\n",
       "      <td>Walmart</td>\n",
       "      <td>Southeast</td>\n",
       "      <td>Florida</td>\n",
       "      <td>Orlando</td>\n",
       "      <td>Men's Street Footwear</td>\n",
       "      <td>95</td>\n",
       "      <td>850</td>\n",
       "      <td>807,500</td>\n",
       "      <td>242250</td>\n",
       "      <td>0</td>\n",
       "      <td>In-store</td>\n",
       "      <td>2021</td>\n",
       "      <td>10</td>\n",
       "      <td>NaN</td>\n",
       "    </tr>\n",
       "    <tr>\n",
       "      <th>1977</th>\n",
       "      <td>West Gear</td>\n",
       "      <td>South</td>\n",
       "      <td>Louisiana</td>\n",
       "      <td>New Orleans</td>\n",
       "      <td>Men's Street Footwear</td>\n",
       "      <td>95</td>\n",
       "      <td>850</td>\n",
       "      <td>807,500</td>\n",
       "      <td>323000</td>\n",
       "      <td>0</td>\n",
       "      <td>Online</td>\n",
       "      <td>2021</td>\n",
       "      <td>10</td>\n",
       "      <td>NaN</td>\n",
       "    </tr>\n",
       "    <tr>\n",
       "      <th>62</th>\n",
       "      <td>Walmart</td>\n",
       "      <td>Northeast</td>\n",
       "      <td>New York</td>\n",
       "      <td>New York</td>\n",
       "      <td>Men's Street Footwear</td>\n",
       "      <td>65</td>\n",
       "      <td>1200</td>\n",
       "      <td>780,000</td>\n",
       "      <td>390000</td>\n",
       "      <td>0</td>\n",
       "      <td>Outlet</td>\n",
       "      <td>2020</td>\n",
       "      <td>3</td>\n",
       "      <td>5</td>\n",
       "    </tr>\n",
       "    <tr>\n",
       "      <th>36</th>\n",
       "      <td>Foot Locker</td>\n",
       "      <td>Northeast</td>\n",
       "      <td>New York</td>\n",
       "      <td>New York</td>\n",
       "      <td>Men's Street Footwear</td>\n",
       "      <td>60</td>\n",
       "      <td>1275</td>\n",
       "      <td>765,000</td>\n",
       "      <td>382500</td>\n",
       "      <td>0</td>\n",
       "      <td>Outlet</td>\n",
       "      <td>2020</td>\n",
       "      <td>10</td>\n",
       "      <td>3</td>\n",
       "    </tr>\n",
       "    <tr>\n",
       "      <th>2361</th>\n",
       "      <td>Foot Locker</td>\n",
       "      <td>Southeast</td>\n",
       "      <td>South Carolina</td>\n",
       "      <td>Charleston</td>\n",
       "      <td>Men's Street Footwear</td>\n",
       "      <td>70</td>\n",
       "      <td>1075</td>\n",
       "      <td>752,500</td>\n",
       "      <td>338625</td>\n",
       "      <td>0</td>\n",
       "      <td>Online</td>\n",
       "      <td>2021</td>\n",
       "      <td>5</td>\n",
       "      <td>12</td>\n",
       "    </tr>\n",
       "  </tbody>\n",
       "</table>\n",
       "</div>"
      ],
      "text/plain": [
       "         Retailer     Region           State         City  \\\n",
       "9648            0       West      California     Portland   \n",
       "1394      Walmart  Southeast         Florida      Orlando   \n",
       "1970    West Gear      South       Louisiana  New Orleans   \n",
       "1971    West Gear      South       Louisiana  New Orleans   \n",
       "1395      Walmart  Southeast         Florida      Orlando   \n",
       "1401      Walmart  Southeast         Florida      Orlando   \n",
       "1977    West Gear      South       Louisiana  New Orleans   \n",
       "62        Walmart  Northeast        New York     New York   \n",
       "36    Foot Locker  Northeast        New York     New York   \n",
       "2361  Foot Locker  Southeast  South Carolina   Charleston   \n",
       "\n",
       "                      Product  Price_per_Unit  Units_Sold  Total_Sales  \\\n",
       "9648  Men's Athletic Footwear         436,199     2478861  899,902,125   \n",
       "1394          Women's Apparel             110         750      825,000   \n",
       "1970          Women's Apparel             110         750      825,000   \n",
       "1971    Men's Street Footwear              90         900      810,000   \n",
       "1395    Men's Street Footwear              90         900      810,000   \n",
       "1401    Men's Street Footwear              95         850      807,500   \n",
       "1977    Men's Street Footwear              95         850      807,500   \n",
       "62      Men's Street Footwear              65        1200      780,000   \n",
       "36      Men's Street Footwear              60        1275      765,000   \n",
       "2361    Men's Street Footwear              70        1075      752,500   \n",
       "\n",
       "      Operating_Profit  Operating_Margin Sales_Method  Year  Month  Day  \n",
       "9648                 0                 0       Online  2021     10  NaN  \n",
       "1394            371250                 0     In-store  2021     10  NaN  \n",
       "1970            288750                 0       Online  2021     10  NaN  \n",
       "1971            324000                 0       Online  2021     10  NaN  \n",
       "1395            243000                 0     In-store  2021     10  NaN  \n",
       "1401            242250                 0     In-store  2021     10  NaN  \n",
       "1977            323000                 0       Online  2021     10  NaN  \n",
       "62              390000                 0       Outlet  2020      3    5  \n",
       "36              382500                 0       Outlet  2020     10    3  \n",
       "2361            338625                 0       Online  2021      5   12  "
      ]
     },
     "execution_count": 166,
     "metadata": {},
     "output_type": "execute_result"
    }
   ],
   "source": [
    "data1.sort_values(\"Total_Sales\", ascending=False).head(10)\n"
   ]
  },
  {
   "cell_type": "code",
   "execution_count": 167,
   "id": "a704ff65-8a24-47b5-8568-08f1fc422bcd",
   "metadata": {},
   "outputs": [
    {
     "data": {
      "text/plain": [
       "Product\n",
       "Men's Athletic Footwear      1612\n",
       "Men's Street Footwear        1610\n",
       "Women's Street Footwear      1608\n",
       "Women's Apparel              1608\n",
       "Women's Athletic Footwear    1606\n",
       "Men's Apparel                1606\n",
       "0                               1\n",
       "Name: count, dtype: int64"
      ]
     },
     "execution_count": 167,
     "metadata": {},
     "output_type": "execute_result"
    }
   ],
   "source": [
    "data1['Product'].value_counts()\n"
   ]
  },
  {
   "cell_type": "code",
   "execution_count": 168,
   "id": "8229b881-c27f-4bce-a03c-dc8cbe5cd230",
   "metadata": {},
   "outputs": [
    {
     "data": {
      "text/plain": [
       "array([\"Men's Street Footwear\", \"Men's Athletic Footwear\",\n",
       "       \"Women's Street Footwear\", \"Women's Athletic Footwear\",\n",
       "       \"Men's Apparel\", \"Women's Apparel\", '0'], dtype=object)"
      ]
     },
     "execution_count": 168,
     "metadata": {},
     "output_type": "execute_result"
    }
   ],
   "source": [
    "data1['Product'].unique()\n"
   ]
  },
  {
   "cell_type": "code",
   "execution_count": 173,
   "id": "58617708-2a70-482b-a473-594b9528da73",
   "metadata": {},
   "outputs": [
    {
     "data": {
      "image/png": "[encoded data removed]",
      "text/plain": [
       "<Figure size 640x480 with 1 Axes>"
      ]
     },
     "metadata": {},
     "output_type": "display_data"
    }
   ],
   "source": [
    "sns.countplot(data=data1, x='Product')\n",
    "plt.xticks(rotation=45)\n",
    "plt.show()"
   ]
  },
  {
   "cell_type": "code",
   "execution_count": 174,
   "id": "afe88c8c-8aa4-4e56-b9a8-e8656c8b05b1",
   "metadata": {},
   "outputs": [
    {
     "data": {
      "image/png": "[encoded data removed]",
      "text/plain": [
       "<Figure size 640x480 with 1 Axes>"
      ]
     },
     "metadata": {},
     "output_type": "display_data"
    }
   ],
   "source": [
    "sns.barplot(data=data1, x='Product', y='Total_Sales')\n",
    "plt.xticks(rotation=45)\n",
    "plt.show()"
   ]
  },
  {
   "cell_type": "code",
   "execution_count": 175,
   "id": "06525ffc-be3a-4ef5-8171-7aedf12142b8",
   "metadata": {},
   "outputs": [
    {
     "data": {
      "image/png": "[encoded data removed]",
      "text/plain": [
       "<Figure size 640x480 with 1 Axes>"
      ]
     },
     "metadata": {},
     "output_type": "display_data"
    }
   ],
   "source": [
    "sns.countplot(data=data1, x='Sales_Method')\n",
    "plt.xticks(rotation=45)\n",
    "plt.show()"
   ]
  },
  {
   "cell_type": "code",
   "execution_count": 176,
   "id": "c9296670-7fa8-4eba-b85a-ed049f556678",
   "metadata": {},
   "outputs": [
    {
     "data": {
      "image/png": "[encoded data removed]",
      "text/plain": [
       "<Figure size 640x480 with 1 Axes>"
      ]
     },
     "metadata": {},
     "output_type": "display_data"
    }
   ],
   "source": [
    "sns.barplot(data=data1, x='Sales_Method', hue='Region')\n",
    "plt.xticks(rotation=45)\n",
    "plt.show()"
   ]
  },
  {
   "cell_type": "code",
   "execution_count": 177,
   "id": "1cfc8966-7d89-47d1-b013-d6c913265eea",
   "metadata": {},
   "outputs": [
    {
     "data": {
      "text/plain": [
       "<Axes: xlabel='Region', ylabel='Total_Sales'>"
      ]
     },
     "execution_count": 177,
     "metadata": {},
     "output_type": "execute_result"
    },
    {
     "data": {
      "image/png": "[encoded data removed]",
      "text/plain": [
       "<Figure size 640x480 with 1 Axes>"
      ]
     },
     "metadata": {},
     "output_type": "display_data"
    }
   ],
   "source": [
    "sns.barplot(data=data1, x='Region', y='Total_Sales')"
   ]
  },
  {
   "cell_type": "code",
   "execution_count": 178,
   "id": "9462cd5d-a948-4d1f-b012-9fa42af454f6",
   "metadata": {},
   "outputs": [
    {
     "data": {
      "text/plain": [
       "<Axes: xlabel='Region'>"
      ]
     },
     "execution_count": 178,
     "metadata": {},
     "output_type": "execute_result"
    },
    {
     "data": {
      "image/png": "[encoded data removed]",
      "text/plain": [
       "<Figure size 640x480 with 1 Axes>"
      ]
     },
     "metadata": {},
     "output_type": "display_data"
    }
   ],
   "source": [
    "sns.barplot(data=data1, x='Region')"
   ]
  },
  {
   "cell_type": "code",
   "execution_count": 180,
   "id": "bf021639-88ba-4982-9e4c-f2d40bb18c92",
   "metadata": {},
   "outputs": [
    {
     "data": {
      "image/png": "[encoded data removed]",
      "text/plain": [
       "<Figure size 1200x600 with 1 Axes>"
      ]
     },
     "metadata": {},
     "output_type": "display_data"
    }
   ],
   "source": [
    "plt.figure(figsize=(12, 6))\n",
    "sns.boxplot(data=data1)\n",
    "plt.xticks(rotation=45)\n",
    "plt.show()"
   ]
  },
  {
   "cell_type": "code",
   "execution_count": 182,
   "id": "6d876153-fca8-463b-9836-6214e61e30fd",
   "metadata": {},
   "outputs": [
    {
     "data": {
      "image/png": "[encoded data removed]",
      "text/plain": [
       "<Figure size 640x480 with 1 Axes>"
      ]
     },
     "metadata": {},
     "output_type": "display_data"
    }
   ],
   "source": [
    "sns.boxplot(data=data1, x='Product', hue='Year')\n",
    "plt.xticks(rotation=90)\n",
    "plt.show()"
   ]
  },
  {
   "cell_type": "code",
   "execution_count": 184,
   "id": "9bcc63c8-381e-4caf-bfff-d9bf91bdfcb1",
   "metadata": {},
   "outputs": [
    {
     "data": {
      "image/png": "[encoded data removed]",
      "text/plain": [
       "<Figure size 640x480 with 1 Axes>"
      ]
     },
     "metadata": {},
     "output_type": "display_data"
    }
   ],
   "source": [
    "plt.xticks(rotation=45)\n",
    "sns.boxplot(data=data1, x='Product', y='Total_Sales', hue='Year')\n",
    "plt.show()"
   ]
  },
  {
   "cell_type": "code",
   "execution_count": 185,
   "id": "f4696d1a-c4c6-4fe8-87fa-dbc5a75a6863",
   "metadata": {},
   "outputs": [
    {
     "data": {
      "image/png": "[encoded data removed]",
      "text/plain": [
       "<Figure size 640x480 with 1 Axes>"
      ]
     },
     "metadata": {},
     "output_type": "display_data"
    }
   ],
   "source": [
    "sns.lineplot(x='Year', y='Total_Sales', data=data1,)\n",
    "plt.title(\"Sales over time\")\n",
    "plt.show()"
   ]
  },
  {
   "cell_type": "code",
   "execution_count": 187,
   "id": "62ff071a-0482-439c-aadf-20efb2d48bd7",
   "metadata": {},
   "outputs": [
    {
     "data": {
      "image/png": "[encoded data removed]",
      "text/plain": [
       "<Figure size 640x480 with 1 Axes>"
      ]
     },
     "metadata": {},
     "output_type": "display_data"
    }
   ],
   "source": [
    "sns.lineplot(x='Month', y='Total_Sales', data=data1,)\n",
    "plt.title(\"Sales over months\")\n",
    "plt.show()"
   ]
  },
  {
   "cell_type": "code",
   "execution_count": 189,
   "id": "85c4351e-1ef8-4f71-80c4-465ed6527f67",
   "metadata": {},
   "outputs": [
    {
     "data": {
      "image/png": "[encoded data removed]",
      "text/plain": [
       "<Figure size 640x480 with 1 Axes>"
      ]
     },
     "metadata": {},
     "output_type": "display_data"
    }
   ],
   "source": [
    "sns.lineplot(data=data1, x='Month', y='Total_Sales', hue='Year', marker='o')\n",
    "plt.title(\"Sales over months with years\")\n",
    "plt.show()"
   ]
  },
  {
   "cell_type": "code",
   "execution_count": 195,
   "id": "bc57e553-7dfb-4643-bbf3-be9a470f136e",
   "metadata": {},
   "outputs": [
    {
     "data": {
      "image/png": "[encoded data removed]",
      "text/plain": [
       "<Figure size 1000x800 with 2 Axes>"
      ]
     },
     "metadata": {},
     "output_type": "display_data"
    }
   ],
   "source": [
    "numeric_data = data1.select_dtypes(include='number')  # only numeric columns\n",
    "plt.figure(figsize=(10, 8))  # optional: make figure bigger\n",
    "sns.heatmap(numeric_data.corr(), annot=True, cmap='coolwarm')\n",
    "plt.xticks(rotation=90)\n",
    "plt.show()"
   ]
  },
  {
   "cell_type": "code",
   "execution_count": 197,
   "id": "279fe5df-74c1-4062-9cd0-2df1a27a39af",
   "metadata": {},
   "outputs": [
    {
     "data": {
      "image/png": "[encoded data removed]",
      "text/plain": [
       "<Figure size 640x480 with 1 Axes>"
      ]
     },
     "metadata": {},
     "output_type": "display_data"
    }
   ],
   "source": [
    "sns.barplot(data=data1, x='Retailer')\n",
    "plt.title(\"Total Sales by Retailer\")\n",
    "plt.xticks(rotation=90)\n",
    "plt.show()"
   ]
  },
  {
   "cell_type": "code",
   "execution_count": 199,
   "id": "1a9250e7-6cdf-4fd1-9159-e43ec6f95101",
   "metadata": {},
   "outputs": [
    {
     "data": {
      "image/png": "[encoded data removed]",
      "text/plain": [
       "<Figure size 640x480 with 1 Axes>"
      ]
     },
     "metadata": {},
     "output_type": "display_data"
    }
   ],
   "source": [
    "sns.barplot(data=data1, x='Retailer', y='Total_Sales')\n",
    "plt.title(\"Total Sales by Retailer\")\n",
    "plt.xticks(rotation=90)\n",
    "plt.show()"
   ]
  },
  {
   "cell_type": "code",
   "execution_count": 201,
   "id": "876376a2-d105-4a7e-875c-544ff962ec2e",
   "metadata": {},
   "outputs": [
    {
     "data": {
      "text/plain": [
       "<Axes: xlabel='Retailer', ylabel='Total_Sales'>"
      ]
     },
     "execution_count": 201,
     "metadata": {},
     "output_type": "execute_result"
    },
    {
     "data": {
      "image/png": "[encoded data removed]",
      "text/plain": [
       "<Figure size 640x480 with 1 Axes>"
      ]
     },
     "metadata": {},
     "output_type": "display_data"
    }
   ],
   "source": [
    "sns.lineplot(data=data1, x='Retailer', y='Total_Sales')"
   ]
  },
  {
   "cell_type": "code",
   "execution_count": 202,
   "id": "ae687bd0-5f0d-41e2-963d-817da2f54507",
   "metadata": {},
   "outputs": [
    {
     "data": {
      "text/plain": [
       "Sales_Method\n",
       "Online      4892\n",
       "Outlet      3019\n",
       "In-store    1740\n",
       "Name: count, dtype: int64"
      ]
     },
     "execution_count": 202,
     "metadata": {},
     "output_type": "execute_result"
    }
   ],
   "source": [
    "data1['Sales_Method'].value_counts()"
   ]
  },
  {
   "cell_type": "code",
   "execution_count": 211,
   "id": "d4a0c40d-f203-48f5-8ae1-28ae0bbd7d5d",
   "metadata": {},
   "outputs": [],
   "source": [
    "def handle_sales_method(value):\n",
    "    if value == \"Online\":\n",
    "        return 1\n",
    "    elif value == \"Outlet\":\n",
    "        return 2\n",
    "    else:\n",
    "        return 3\n"
   ]
  },
  {
   "cell_type": "code",
   "execution_count": 214,
   "id": "cb3e9457-86fe-4f5f-9ec5-7e5335b0279c",
   "metadata": {},
   "outputs": [],
   "source": [
    "data1['Sales_Method'] = data1['Sales_Method'].apply(handle_sales_method)\n"
   ]
  },
  {
   "cell_type": "code",
   "execution_count": 215,
   "id": "c8abda03-3a78-43b7-afef-e10ce47535e3",
   "metadata": {},
   "outputs": [
    {
     "data": {
      "text/html": [
       "<div>\n",
       "<style scoped>\n",
       "    .dataframe tbody tr th:only-of-type {\n",
       "        vertical-align: middle;\n",
       "    }\n",
       "\n",
       "    .dataframe tbody tr th {\n",
       "        vertical-align: top;\n",
       "    }\n",
       "\n",
       "    .dataframe thead th {\n",
       "        text-align: right;\n",
       "    }\n",
       "</style>\n",
       "<table border=\"1\" class=\"dataframe\">\n",
       "  <thead>\n",
       "    <tr style=\"text-align: right;\">\n",
       "      <th></th>\n",
       "      <th>Retailer</th>\n",
       "      <th>Region</th>\n",
       "      <th>State</th>\n",
       "      <th>City</th>\n",
       "      <th>Product</th>\n",
       "      <th>Price_per_Unit</th>\n",
       "      <th>Units_Sold</th>\n",
       "      <th>Total_Sales</th>\n",
       "      <th>Operating_Profit</th>\n",
       "      <th>Operating_Margin</th>\n",
       "      <th>Sales_Method</th>\n",
       "      <th>Year</th>\n",
       "      <th>Month</th>\n",
       "      <th>Day</th>\n",
       "    </tr>\n",
       "  </thead>\n",
       "  <tbody>\n",
       "    <tr>\n",
       "      <th>4936</th>\n",
       "      <td>Foot Locker</td>\n",
       "      <td>Midwest</td>\n",
       "      <td>Nebraska</td>\n",
       "      <td>Omaha</td>\n",
       "      <td>Women's Street Footwear</td>\n",
       "      <td>36</td>\n",
       "      <td>52</td>\n",
       "      <td>1,872</td>\n",
       "      <td>899</td>\n",
       "      <td>0</td>\n",
       "      <td>3</td>\n",
       "      <td>2021</td>\n",
       "      <td>4</td>\n",
       "      <td>7</td>\n",
       "    </tr>\n",
       "  </tbody>\n",
       "</table>\n",
       "</div>"
      ],
      "text/plain": [
       "         Retailer   Region     State   City                  Product  \\\n",
       "4936  Foot Locker  Midwest  Nebraska  Omaha  Women's Street Footwear   \n",
       "\n",
       "      Price_per_Unit  Units_Sold  Total_Sales  Operating_Profit  \\\n",
       "4936              36          52        1,872               899   \n",
       "\n",
       "      Operating_Margin  Sales_Method  Year  Month  Day  \n",
       "4936                 0             3  2021      4    7  "
      ]
     },
     "execution_count": 215,
     "metadata": {},
     "output_type": "execute_result"
    }
   ],
   "source": [
    "data1.sample()"
   ]
  },
  {
   "cell_type": "code",
   "execution_count": 217,
   "id": "16164065-4b36-4243-a4a1-733c7e629487",
   "metadata": {},
   "outputs": [
    {
     "data": {
      "text/plain": [
       "Region\n",
       "West         2451\n",
       "Northeast    2376\n",
       "Midwest      1872\n",
       "South        1728\n",
       "Southeast    1224\n",
       "Name: count, dtype: int64"
      ]
     },
     "execution_count": 217,
     "metadata": {},
     "output_type": "execute_result"
    }
   ],
   "source": [
    "data1.Region.value_counts()"
   ]
  },
  {
   "cell_type": "code",
   "execution_count": 218,
   "id": "ff1e25f7-d9b2-4bec-9d35-308bff5a803c",
   "metadata": {},
   "outputs": [],
   "source": [
    "data1.Region = data1.Region.map({\"West\" :1 ,\"Northeast\" :2 , \"Midwest\" : 3 ,\"South\" :4})"
   ]
  },
  {
   "cell_type": "code",
   "execution_count": 219,
   "id": "25c20f3d-13f5-4d5e-b5e6-1b80f92f79cf",
   "metadata": {},
   "outputs": [
    {
     "data": {
      "text/html": [
       "<div>\n",
       "<style scoped>\n",
       "    .dataframe tbody tr th:only-of-type {\n",
       "        vertical-align: middle;\n",
       "    }\n",
       "\n",
       "    .dataframe tbody tr th {\n",
       "        vertical-align: top;\n",
       "    }\n",
       "\n",
       "    .dataframe thead th {\n",
       "        text-align: right;\n",
       "    }\n",
       "</style>\n",
       "<table border=\"1\" class=\"dataframe\">\n",
       "  <thead>\n",
       "    <tr style=\"text-align: right;\">\n",
       "      <th></th>\n",
       "      <th>Retailer</th>\n",
       "      <th>Region</th>\n",
       "      <th>State</th>\n",
       "      <th>City</th>\n",
       "      <th>Product</th>\n",
       "      <th>Price_per_Unit</th>\n",
       "      <th>Units_Sold</th>\n",
       "      <th>Total_Sales</th>\n",
       "      <th>Operating_Profit</th>\n",
       "      <th>Operating_Margin</th>\n",
       "      <th>Sales_Method</th>\n",
       "      <th>Year</th>\n",
       "      <th>Month</th>\n",
       "      <th>Day</th>\n",
       "    </tr>\n",
       "  </thead>\n",
       "  <tbody>\n",
       "    <tr>\n",
       "      <th>7591</th>\n",
       "      <td>Sports Direct</td>\n",
       "      <td>2</td>\n",
       "      <td>Massachusetts</td>\n",
       "      <td>Boston</td>\n",
       "      <td>Men's Apparel</td>\n",
       "      <td>53</td>\n",
       "      <td>68</td>\n",
       "      <td>3,604</td>\n",
       "      <td>1406</td>\n",
       "      <td>0</td>\n",
       "      <td>3</td>\n",
       "      <td>2021</td>\n",
       "      <td>10</td>\n",
       "      <td>NaN</td>\n",
       "    </tr>\n",
       "  </tbody>\n",
       "</table>\n",
       "</div>"
      ],
      "text/plain": [
       "           Retailer  Region          State    City        Product  \\\n",
       "7591  Sports Direct       2  Massachusetts  Boston  Men's Apparel   \n",
       "\n",
       "      Price_per_Unit  Units_Sold  Total_Sales  Operating_Profit  \\\n",
       "7591              53          68        3,604              1406   \n",
       "\n",
       "      Operating_Margin  Sales_Method  Year  Month  Day  \n",
       "7591                 0             3  2021     10  NaN  "
      ]
     },
     "execution_count": 219,
     "metadata": {},
     "output_type": "execute_result"
    }
   ],
   "source": [
    "data1.sample()"
   ]
  },
  {
   "cell_type": "code",
   "execution_count": 221,
   "id": "b90144ae-d264-408f-a44d-aea2cc9c4808",
   "metadata": {},
   "outputs": [
    {
     "data": {
      "text/plain": [
       "dtype('float64')"
      ]
     },
     "execution_count": 221,
     "metadata": {},
     "output_type": "execute_result"
    }
   ],
   "source": [
    "data1.Region.dtype"
   ]
  },
  {
   "cell_type": "code",
   "execution_count": 222,
   "id": "7c296c9b-b693-465a-b33c-06bae4e5de81",
   "metadata": {},
   "outputs": [
    {
     "data": {
      "text/plain": [
       "Retailer\n",
       "Foot Locker      2637\n",
       "West Gear        2374\n",
       "Sports Direct    2032\n",
       "Kohl's           1030\n",
       "Amazon            949\n",
       "Walmart           626\n",
       "0                   2\n",
       "Name: count, dtype: int64"
      ]
     },
     "execution_count": 222,
     "metadata": {},
     "output_type": "execute_result"
    }
   ],
   "source": [
    "data1.Retailer.value_counts()"
   ]
  },
  {
   "cell_type": "code",
   "execution_count": 225,
   "id": "4b6260d8-e50d-47a6-ba4f-33ff23fe08c7",
   "metadata": {},
   "outputs": [],
   "source": [
    "def fix_Retailer(i):\n",
    "    if i == \"Foot Locker\":\n",
    "        return 1\n",
    "    elif i == \"West Gear\":\n",
    "        return 2\n",
    "    elif i == \"Sports Direct\":\n",
    "        return 3 \n",
    "    elif i == \"Kohl's\":\n",
    "        return 4\n",
    "    elif i == \"Amazon\":\n",
    "        return 5\n",
    "    elif i == \"Walmart\":\n",
    "        return 6\n",
    "    else:\n",
    "        return False\n"
   ]
  },
  {
   "cell_type": "code",
   "execution_count": 226,
   "id": "30d24e12-a1be-4b2d-a14a-f46f7bb04d6e",
   "metadata": {},
   "outputs": [],
   "source": [
    "data1.Retailer = data1.Retailer.apply(fix_Retailer)\n"
   ]
  },
  {
   "cell_type": "code",
   "execution_count": 250,
   "id": "6145a19b-c52f-403b-8893-5903624a5354",
   "metadata": {},
   "outputs": [],
   "source": [
    "def fix_Product(i):\n",
    "    if i == \"Men's Street Footwear\":\n",
    "        return 1\n",
    "    elif i == \"Men's Athletic Footwear \":\n",
    "        return 2\n",
    "    elif i == \"Women's Street Footwear\":\n",
    "        return 3 \n",
    "    elif i == \"Women's Athletic Footwear\":\n",
    "        return 4\n",
    "    elif i == \"Men's Apparel\":\n",
    "        return 5\n",
    "    else:\n",
    "        return False\n"
   ]
  },
  {
   "cell_type": "code",
   "execution_count": 251,
   "id": "f7d26b9e-4bf8-498e-aae0-b2832f04c029",
   "metadata": {},
   "outputs": [],
   "source": [
    "data1.Product = data1.Product.apply(fix_Product)\n"
   ]
  },
  {
   "cell_type": "code",
   "execution_count": 252,
   "id": "5648440f-b094-4b7d-8adc-b66bd224fa3d",
   "metadata": {},
   "outputs": [
    {
     "data": {
      "text/plain": [
       "<function __main__.fix_Product(i)>"
      ]
     },
     "execution_count": 252,
     "metadata": {},
     "output_type": "execute_result"
    }
   ],
   "source": [
    "fix_Product"
   ]
  },
  {
   "cell_type": "code",
   "execution_count": 228,
   "id": "e159ed78-1442-4d13-8b08-fcaf3c6e9c05",
   "metadata": {},
   "outputs": [
    {
     "data": {
      "text/html": [
       "<div>\n",
       "<style scoped>\n",
       "    .dataframe tbody tr th:only-of-type {\n",
       "        vertical-align: middle;\n",
       "    }\n",
       "\n",
       "    .dataframe tbody tr th {\n",
       "        vertical-align: top;\n",
       "    }\n",
       "\n",
       "    .dataframe thead th {\n",
       "        text-align: right;\n",
       "    }\n",
       "</style>\n",
       "<table border=\"1\" class=\"dataframe\">\n",
       "  <thead>\n",
       "    <tr style=\"text-align: right;\">\n",
       "      <th></th>\n",
       "      <th>Retailer</th>\n",
       "      <th>Region</th>\n",
       "      <th>State</th>\n",
       "      <th>City</th>\n",
       "      <th>Product</th>\n",
       "      <th>Price_per_Unit</th>\n",
       "      <th>Units_Sold</th>\n",
       "      <th>Total_Sales</th>\n",
       "      <th>Operating_Profit</th>\n",
       "      <th>Operating_Margin</th>\n",
       "      <th>Sales_Method</th>\n",
       "      <th>Year</th>\n",
       "      <th>Month</th>\n",
       "      <th>Day</th>\n",
       "    </tr>\n",
       "  </thead>\n",
       "  <tbody>\n",
       "    <tr>\n",
       "      <th>2285</th>\n",
       "      <td>3</td>\n",
       "      <td>NaN</td>\n",
       "      <td>Georgia</td>\n",
       "      <td>Atlanta</td>\n",
       "      <td>Women's Street Footwear</td>\n",
       "      <td>55</td>\n",
       "      <td>425</td>\n",
       "      <td>233,750</td>\n",
       "      <td>81813</td>\n",
       "      <td>0</td>\n",
       "      <td>3</td>\n",
       "      <td>2021</td>\n",
       "      <td>10</td>\n",
       "      <td>NaN</td>\n",
       "    </tr>\n",
       "  </tbody>\n",
       "</table>\n",
       "</div>"
      ],
      "text/plain": [
       "     Retailer  Region    State     City                  Product  \\\n",
       "2285        3     NaN  Georgia  Atlanta  Women's Street Footwear   \n",
       "\n",
       "      Price_per_Unit  Units_Sold  Total_Sales  Operating_Profit  \\\n",
       "2285              55         425      233,750             81813   \n",
       "\n",
       "      Operating_Margin  Sales_Method  Year  Month  Day  \n",
       "2285                 0             3  2021     10  NaN  "
      ]
     },
     "execution_count": 228,
     "metadata": {},
     "output_type": "execute_result"
    }
   ],
   "source": [
    "data1.sample()"
   ]
  },
  {
   "cell_type": "code",
   "execution_count": 229,
   "id": "55d0060a-7b42-4382-99f1-c758859d6a94",
   "metadata": {},
   "outputs": [
    {
     "data": {
      "text/plain": [
       "State\n",
       "California        434\n",
       "Texas             432\n",
       "New York          360\n",
       "Florida           360\n",
       "Pennsylvania      216\n",
       "Nevada            216\n",
       "Tennessee         216\n",
       "Alabama           216\n",
       "Virginia          216\n",
       "Mississippi       216\n",
       "Arkansas          216\n",
       "Georgia           216\n",
       "Oklahoma          216\n",
       "New Mexico        216\n",
       "Arizona           216\n",
       "Louisiana         216\n",
       "Idaho             216\n",
       "Utah              216\n",
       "Oregon            216\n",
       "New Hampshire     216\n",
       "Connecticut       216\n",
       "Vermont           216\n",
       "Rhode Island      216\n",
       "Massachusetts     216\n",
       "Hawaii            144\n",
       "Wyoming           144\n",
       "Montana           144\n",
       "Illinois          144\n",
       "Colorado          144\n",
       "Alaska            144\n",
       "Maine             144\n",
       "Nebraska          144\n",
       "Washington        144\n",
       "Minnesota         144\n",
       "Missouri          144\n",
       "Kentucky          144\n",
       "South Carolina    144\n",
       "North Carolina    144\n",
       "Ohio              144\n",
       "Michigan          144\n",
       "Kansas            144\n",
       "North Dakota      144\n",
       "South Dakota      144\n",
       "Maryland          144\n",
       "West Virginia     144\n",
       "Indiana           144\n",
       "Wisconsin         144\n",
       "Iowa              144\n",
       "New Jersey        144\n",
       "Delaware          144\n",
       "0                   1\n",
       "Name: count, dtype: int64"
      ]
     },
     "execution_count": 229,
     "metadata": {},
     "output_type": "execute_result"
    }
   ],
   "source": [
    "data1.State.value_counts()"
   ]
  },
  {
   "cell_type": "code",
   "execution_count": 240,
   "id": "24bf23e8-a01a-4149-ab23-da67cd546f15",
   "metadata": {},
   "outputs": [],
   "source": [
    "data1 = data1[data1.Product != \"Men's aparel\"]"
   ]
  },
  {
   "cell_type": "code",
   "execution_count": 241,
   "id": "5e0c70bd-0d0d-4b73-9f1e-4b1ebb1d22b5",
   "metadata": {},
   "outputs": [
    {
     "data": {
      "text/plain": [
       "Product\n",
       "Men's Athletic Footwear      1612\n",
       "Men's Street Footwear        1610\n",
       "Women's Street Footwear      1608\n",
       "Women's Apparel              1608\n",
       "Women's Athletic Footwear    1606\n",
       "0                               1\n",
       "Name: count, dtype: int64"
      ]
     },
     "execution_count": 241,
     "metadata": {},
     "output_type": "execute_result"
    }
   ],
   "source": [
    "data1.Product.value_counts()"
   ]
  },
  {
   "cell_type": "code",
   "execution_count": 242,
   "id": "b3429db7-1eab-42a8-a7f8-70168d461d7d",
   "metadata": {},
   "outputs": [],
   "source": [
    "    from sklearn import preprocessing "
   ]
  },
  {
   "cell_type": "code",
   "execution_count": 243,
   "id": "1a2e9a51-5d7d-4afd-b44c-0f36a4041889",
   "metadata": {},
   "outputs": [],
   "source": [
    "le = preprocessing.LabelEncoder()"
   ]
  },
  {
   "cell_type": "code",
   "execution_count": 244,
   "id": "8cddfe37-ddb3-4e5d-8295-bada923a5f92",
   "metadata": {},
   "outputs": [
    {
     "data": {
      "text/html": [
       "<style>#sk-container-id-1 {\n",
       "  /* Definition of color scheme common for light and dark mode */\n",
       "  --sklearn-color-text: #000;\n",
       "  --sklearn-color-text-muted: #666;\n",
       "  --sklearn-color-line: gray;\n",
       "  /* Definition of color scheme for unfitted estimators */\n",
       "  --sklearn-color-unfitted-level-0: #fff5e6;\n",
       "  --sklearn-color-unfitted-level-1: #f6e4d2;\n",
       "  --sklearn-color-unfitted-level-2: #ffe0b3;\n",
       "  --sklearn-color-unfitted-level-3: chocolate;\n",
       "  /* Definition of color scheme for fitted estimators */\n",
       "  --sklearn-color-fitted-level-0: #f0f8ff;\n",
       "  --sklearn-color-fitted-level-1: #d4ebff;\n",
       "  --sklearn-color-fitted-level-2: #b3dbfd;\n",
       "  --sklearn-color-fitted-level-3: cornflowerblue;\n",
       "\n",
       "  /* Specific color for light theme */\n",
       "  --sklearn-color-text-on-default-background: var(--sg-text-color, var(--theme-code-foreground, var(--jp-content-font-color1, black)));\n",
       "  --sklearn-color-background: var(--sg-background-color, var(--theme-background, var(--jp-layout-color0, white)));\n",
       "  --sklearn-color-border-box: var(--sg-text-color, var(--theme-code-foreground, var(--jp-content-font-color1, black)));\n",
       "  --sklearn-color-icon: #696969;\n",
       "\n",
       "  @media (prefers-color-scheme: dark) {\n",
       "    /* Redefinition of color scheme for dark theme */\n",
       "    --sklearn-color-text-on-default-background: var(--sg-text-color, var(--theme-code-foreground, var(--jp-content-font-color1, white)));\n",
       "    --sklearn-color-background: var(--sg-background-color, var(--theme-background, var(--jp-layout-color0, #111)));\n",
       "    --sklearn-color-border-box: var(--sg-text-color, var(--theme-code-foreground, var(--jp-content-font-color1, white)));\n",
       "    --sklearn-color-icon: #878787;\n",
       "  }\n",
       "}\n",
       "\n",
       "#sk-container-id-1 {\n",
       "  color: var(--sklearn-color-text);\n",
       "}\n",
       "\n",
       "#sk-container-id-1 pre {\n",
       "  padding: 0;\n",
       "}\n",
       "\n",
       "#sk-container-id-1 input.sk-hidden--visually {\n",
       "  border: 0;\n",
       "  clip: rect(1px 1px 1px 1px);\n",
       "  clip: rect(1px, 1px, 1px, 1px);\n",
       "  height: 1px;\n",
       "  margin: -1px;\n",
       "  overflow: hidden;\n",
       "  padding: 0;\n",
       "  position: absolute;\n",
       "  width: 1px;\n",
       "}\n",
       "\n",
       "#sk-container-id-1 div.sk-dashed-wrapped {\n",
       "  border: 1px dashed var(--sklearn-color-line);\n",
       "  margin: 0 0.4em 0.5em 0.4em;\n",
       "  box-sizing: border-box;\n",
       "  padding-bottom: 0.4em;\n",
       "  background-color: var(--sklearn-color-background);\n",
       "}\n",
       "\n",
       "#sk-container-id-1 div.sk-container {\n",
       "  /* jupyter's `normalize.less` sets `[hidden] { display: none; }`\n",
       "     but bootstrap.min.css set `[hidden] { display: none !important; }`\n",
       "     so we also need the `!important` here to be able to override the\n",
       "     default hidden behavior on the sphinx rendered scikit-learn.org.\n",
       "     See: https://github.com/scikit-learn/scikit-learn/issues/21755 */\n",
       "  display: inline-block !important;\n",
       "  position: relative;\n",
       "}\n",
       "\n",
       "#sk-container-id-1 div.sk-text-repr-fallback {\n",
       "  display: none;\n",
       "}\n",
       "\n",
       "div.sk-parallel-item,\n",
       "div.sk-serial,\n",
       "div.sk-item {\n",
       "  /* draw centered vertical line to link estimators */\n",
       "  background-image: linear-gradient(var(--sklearn-color-text-on-default-background), var(--sklearn-color-text-on-default-background));\n",
       "  background-size: 2px 100%;\n",
       "  background-repeat: no-repeat;\n",
       "  background-position: center center;\n",
       "}\n",
       "\n",
       "/* Parallel-specific style estimator block */\n",
       "\n",
       "#sk-container-id-1 div.sk-parallel-item::after {\n",
       "  content: \"\";\n",
       "  width: 100%;\n",
       "  border-bottom: 2px solid var(--sklearn-color-text-on-default-background);\n",
       "  flex-grow: 1;\n",
       "}\n",
       "\n",
       "#sk-container-id-1 div.sk-parallel {\n",
       "  display: flex;\n",
       "  align-items: stretch;\n",
       "  justify-content: center;\n",
       "  background-color: var(--sklearn-color-background);\n",
       "  position: relative;\n",
       "}\n",
       "\n",
       "#sk-container-id-1 div.sk-parallel-item {\n",
       "  display: flex;\n",
       "  flex-direction: column;\n",
       "}\n",
       "\n",
       "#sk-container-id-1 div.sk-parallel-item:first-child::after {\n",
       "  align-self: flex-end;\n",
       "  width: 50%;\n",
       "}\n",
       "\n",
       "#sk-container-id-1 div.sk-parallel-item:last-child::after {\n",
       "  align-self: flex-start;\n",
       "  width: 50%;\n",
       "}\n",
       "\n",
       "#sk-container-id-1 div.sk-parallel-item:only-child::after {\n",
       "  width: 0;\n",
       "}\n",
       "\n",
       "/* Serial-specific style estimator block */\n",
       "\n",
       "#sk-container-id-1 div.sk-serial {\n",
       "  display: flex;\n",
       "  flex-direction: column;\n",
       "  align-items: center;\n",
       "  background-color: var(--sklearn-color-background);\n",
       "  padding-right: 1em;\n",
       "  padding-left: 1em;\n",
       "}\n",
       "\n",
       "\n",
       "/* Toggleable style: style used for estimator/Pipeline/ColumnTransformer box that is\n",
       "clickable and can be expanded/collapsed.\n",
       "- Pipeline and ColumnTransformer use this feature and define the default style\n",
       "- Estimators will overwrite some part of the style using the `sk-estimator` class\n",
       "*/\n",
       "\n",
       "/* Pipeline and ColumnTransformer style (default) */\n",
       "\n",
       "#sk-container-id-1 div.sk-toggleable {\n",
       "  /* Default theme specific background. It is overwritten whether we have a\n",
       "  specific estimator or a Pipeline/ColumnTransformer */\n",
       "  background-color: var(--sklearn-color-background);\n",
       "}\n",
       "\n",
       "/* Toggleable label */\n",
       "#sk-container-id-1 label.sk-toggleable__label {\n",
       "  cursor: pointer;\n",
       "  display: flex;\n",
       "  width: 100%;\n",
       "  margin-bottom: 0;\n",
       "  padding: 0.5em;\n",
       "  box-sizing: border-box;\n",
       "  text-align: center;\n",
       "  align-items: start;\n",
       "  justify-content: space-between;\n",
       "  gap: 0.5em;\n",
       "}\n",
       "\n",
       "#sk-container-id-1 label.sk-toggleable__label .caption {\n",
       "  font-size: 0.6rem;\n",
       "  font-weight: lighter;\n",
       "  color: var(--sklearn-color-text-muted);\n",
       "}\n",
       "\n",
       "#sk-container-id-1 label.sk-toggleable__label-arrow:before {\n",
       "  /* Arrow on the left of the label */\n",
       "  content: \"▸\";\n",
       "  float: left;\n",
       "  margin-right: 0.25em;\n",
       "  color: var(--sklearn-color-icon);\n",
       "}\n",
       "\n",
       "#sk-container-id-1 label.sk-toggleable__label-arrow:hover:before {\n",
       "  color: var(--sklearn-color-text);\n",
       "}\n",
       "\n",
       "/* Toggleable content - dropdown */\n",
       "\n",
       "#sk-container-id-1 div.sk-toggleable__content {\n",
       "  max-height: 0;\n",
       "  max-width: 0;\n",
       "  overflow: hidden;\n",
       "  text-align: left;\n",
       "  /* unfitted */\n",
       "  background-color: var(--sklearn-color-unfitted-level-0);\n",
       "}\n",
       "\n",
       "#sk-container-id-1 div.sk-toggleable__content.fitted {\n",
       "  /* fitted */\n",
       "  background-color: var(--sklearn-color-fitted-level-0);\n",
       "}\n",
       "\n",
       "#sk-container-id-1 div.sk-toggleable__content pre {\n",
       "  margin: 0.2em;\n",
       "  border-radius: 0.25em;\n",
       "  color: var(--sklearn-color-text);\n",
       "  /* unfitted */\n",
       "  background-color: var(--sklearn-color-unfitted-level-0);\n",
       "}\n",
       "\n",
       "#sk-container-id-1 div.sk-toggleable__content.fitted pre {\n",
       "  /* unfitted */\n",
       "  background-color: var(--sklearn-color-fitted-level-0);\n",
       "}\n",
       "\n",
       "#sk-container-id-1 input.sk-toggleable__control:checked~div.sk-toggleable__content {\n",
       "  /* Expand drop-down */\n",
       "  max-height: 200px;\n",
       "  max-width: 100%;\n",
       "  overflow: auto;\n",
       "}\n",
       "\n",
       "#sk-container-id-1 input.sk-toggleable__control:checked~label.sk-toggleable__label-arrow:before {\n",
       "  content: \"▾\";\n",
       "}\n",
       "\n",
       "/* Pipeline/ColumnTransformer-specific style */\n",
       "\n",
       "#sk-container-id-1 div.sk-label input.sk-toggleable__control:checked~label.sk-toggleable__label {\n",
       "  color: var(--sklearn-color-text);\n",
       "  background-color: var(--sklearn-color-unfitted-level-2);\n",
       "}\n",
       "\n",
       "#sk-container-id-1 div.sk-label.fitted input.sk-toggleable__control:checked~label.sk-toggleable__label {\n",
       "  background-color: var(--sklearn-color-fitted-level-2);\n",
       "}\n",
       "\n",
       "/* Estimator-specific style */\n",
       "\n",
       "/* Colorize estimator box */\n",
       "#sk-container-id-1 div.sk-estimator input.sk-toggleable__control:checked~label.sk-toggleable__label {\n",
       "  /* unfitted */\n",
       "  background-color: var(--sklearn-color-unfitted-level-2);\n",
       "}\n",
       "\n",
       "#sk-container-id-1 div.sk-estimator.fitted input.sk-toggleable__control:checked~label.sk-toggleable__label {\n",
       "  /* fitted */\n",
       "  background-color: var(--sklearn-color-fitted-level-2);\n",
       "}\n",
       "\n",
       "#sk-container-id-1 div.sk-label label.sk-toggleable__label,\n",
       "#sk-container-id-1 div.sk-label label {\n",
       "  /* The background is the default theme color */\n",
       "  color: var(--sklearn-color-text-on-default-background);\n",
       "}\n",
       "\n",
       "/* On hover, darken the color of the background */\n",
       "#sk-container-id-1 div.sk-label:hover label.sk-toggleable__label {\n",
       "  color: var(--sklearn-color-text);\n",
       "  background-color: var(--sklearn-color-unfitted-level-2);\n",
       "}\n",
       "\n",
       "/* Label box, darken color on hover, fitted */\n",
       "#sk-container-id-1 div.sk-label.fitted:hover label.sk-toggleable__label.fitted {\n",
       "  color: var(--sklearn-color-text);\n",
       "  background-color: var(--sklearn-color-fitted-level-2);\n",
       "}\n",
       "\n",
       "/* Estimator label */\n",
       "\n",
       "#sk-container-id-1 div.sk-label label {\n",
       "  font-family: monospace;\n",
       "  font-weight: bold;\n",
       "  display: inline-block;\n",
       "  line-height: 1.2em;\n",
       "}\n",
       "\n",
       "#sk-container-id-1 div.sk-label-container {\n",
       "  text-align: center;\n",
       "}\n",
       "\n",
       "/* Estimator-specific */\n",
       "#sk-container-id-1 div.sk-estimator {\n",
       "  font-family: monospace;\n",
       "  border: 1px dotted var(--sklearn-color-border-box);\n",
       "  border-radius: 0.25em;\n",
       "  box-sizing: border-box;\n",
       "  margin-bottom: 0.5em;\n",
       "  /* unfitted */\n",
       "  background-color: var(--sklearn-color-unfitted-level-0);\n",
       "}\n",
       "\n",
       "#sk-container-id-1 div.sk-estimator.fitted {\n",
       "  /* fitted */\n",
       "  background-color: var(--sklearn-color-fitted-level-0);\n",
       "}\n",
       "\n",
       "/* on hover */\n",
       "#sk-container-id-1 div.sk-estimator:hover {\n",
       "  /* unfitted */\n",
       "  background-color: var(--sklearn-color-unfitted-level-2);\n",
       "}\n",
       "\n",
       "#sk-container-id-1 div.sk-estimator.fitted:hover {\n",
       "  /* fitted */\n",
       "  background-color: var(--sklearn-color-fitted-level-2);\n",
       "}\n",
       "\n",
       "/* Specification for estimator info (e.g. \"i\" and \"?\") */\n",
       "\n",
       "/* Common style for \"i\" and \"?\" */\n",
       "\n",
       ".sk-estimator-doc-link,\n",
       "a:link.sk-estimator-doc-link,\n",
       "a:visited.sk-estimator-doc-link {\n",
       "  float: right;\n",
       "  font-size: smaller;\n",
       "  line-height: 1em;\n",
       "  font-family: monospace;\n",
       "  background-color: var(--sklearn-color-background);\n",
       "  border-radius: 1em;\n",
       "  height: 1em;\n",
       "  width: 1em;\n",
       "  text-decoration: none !important;\n",
       "  margin-left: 0.5em;\n",
       "  text-align: center;\n",
       "  /* unfitted */\n",
       "  border: var(--sklearn-color-unfitted-level-1) 1pt solid;\n",
       "  color: var(--sklearn-color-unfitted-level-1);\n",
       "}\n",
       "\n",
       ".sk-estimator-doc-link.fitted,\n",
       "a:link.sk-estimator-doc-link.fitted,\n",
       "a:visited.sk-estimator-doc-link.fitted {\n",
       "  /* fitted */\n",
       "  border: var(--sklearn-color-fitted-level-1) 1pt solid;\n",
       "  color: var(--sklearn-color-fitted-level-1);\n",
       "}\n",
       "\n",
       "/* On hover */\n",
       "div.sk-estimator:hover .sk-estimator-doc-link:hover,\n",
       ".sk-estimator-doc-link:hover,\n",
       "div.sk-label-container:hover .sk-estimator-doc-link:hover,\n",
       ".sk-estimator-doc-link:hover {\n",
       "  /* unfitted */\n",
       "  background-color: var(--sklearn-color-unfitted-level-3);\n",
       "  color: var(--sklearn-color-background);\n",
       "  text-decoration: none;\n",
       "}\n",
       "\n",
       "div.sk-estimator.fitted:hover .sk-estimator-doc-link.fitted:hover,\n",
       ".sk-estimator-doc-link.fitted:hover,\n",
       "div.sk-label-container:hover .sk-estimator-doc-link.fitted:hover,\n",
       ".sk-estimator-doc-link.fitted:hover {\n",
       "  /* fitted */\n",
       "  background-color: var(--sklearn-color-fitted-level-3);\n",
       "  color: var(--sklearn-color-background);\n",
       "  text-decoration: none;\n",
       "}\n",
       "\n",
       "/* Span, style for the box shown on hovering the info icon */\n",
       ".sk-estimator-doc-link span {\n",
       "  display: none;\n",
       "  z-index: 9999;\n",
       "  position: relative;\n",
       "  font-weight: normal;\n",
       "  right: .2ex;\n",
       "  padding: .5ex;\n",
       "  margin: .5ex;\n",
       "  width: min-content;\n",
       "  min-width: 20ex;\n",
       "  max-width: 50ex;\n",
       "  color: var(--sklearn-color-text);\n",
       "  box-shadow: 2pt 2pt 4pt #999;\n",
       "  /* unfitted */\n",
       "  background: var(--sklearn-color-unfitted-level-0);\n",
       "  border: .5pt solid var(--sklearn-color-unfitted-level-3);\n",
       "}\n",
       "\n",
       ".sk-estimator-doc-link.fitted span {\n",
       "  /* fitted */\n",
       "  background: var(--sklearn-color-fitted-level-0);\n",
       "  border: var(--sklearn-color-fitted-level-3);\n",
       "}\n",
       "\n",
       ".sk-estimator-doc-link:hover span {\n",
       "  display: block;\n",
       "}\n",
       "\n",
       "/* \"?\"-specific style due to the `<a>` HTML tag */\n",
       "\n",
       "#sk-container-id-1 a.estimator_doc_link {\n",
       "  float: right;\n",
       "  font-size: 1rem;\n",
       "  line-height: 1em;\n",
       "  font-family: monospace;\n",
       "  background-color: var(--sklearn-color-background);\n",
       "  border-radius: 1rem;\n",
       "  height: 1rem;\n",
       "  width: 1rem;\n",
       "  text-decoration: none;\n",
       "  /* unfitted */\n",
       "  color: var(--sklearn-color-unfitted-level-1);\n",
       "  border: var(--sklearn-color-unfitted-level-1) 1pt solid;\n",
       "}\n",
       "\n",
       "#sk-container-id-1 a.estimator_doc_link.fitted {\n",
       "  /* fitted */\n",
       "  border: var(--sklearn-color-fitted-level-1) 1pt solid;\n",
       "  color: var(--sklearn-color-fitted-level-1);\n",
       "}\n",
       "\n",
       "/* On hover */\n",
       "#sk-container-id-1 a.estimator_doc_link:hover {\n",
       "  /* unfitted */\n",
       "  background-color: var(--sklearn-color-unfitted-level-3);\n",
       "  color: var(--sklearn-color-background);\n",
       "  text-decoration: none;\n",
       "}\n",
       "\n",
       "#sk-container-id-1 a.estimator_doc_link.fitted:hover {\n",
       "  /* fitted */\n",
       "  background-color: var(--sklearn-color-fitted-level-3);\n",
       "}\n",
       "</style><div id=\"sk-container-id-1\" class=\"sk-top-container\"><div class=\"sk-text-repr-fallback\"><pre>LabelEncoder()</pre><b>In a Jupyter environment, please rerun this cell to show the HTML representation or trust the notebook. <br />On GitHub, the HTML representation is unable to render, please try loading this page with nbviewer.org.</b></div><div class=\"sk-container\" hidden><div class=\"sk-item\"><div class=\"sk-estimator fitted sk-toggleable\"><input class=\"sk-toggleable__control sk-hidden--visually\" id=\"sk-estimator-id-1\" type=\"checkbox\" checked><label for=\"sk-estimator-id-1\" class=\"sk-toggleable__label fitted sk-toggleable__label-arrow\"><div><div>LabelEncoder</div></div><div><a class=\"sk-estimator-doc-link fitted\" rel=\"noreferrer\" target=\"_blank\" href=\"https://scikit-learn.org/1.6/modules/generated/sklearn.preprocessing.LabelEncoder.html\">?<span>Documentation for LabelEncoder</span></a><span class=\"sk-estimator-doc-link fitted\">i<span>Fitted</span></span></div></label><div class=\"sk-toggleable__content fitted\"><pre>LabelEncoder()</pre></div> </div></div></div></div>"
      ],
      "text/plain": [
       "LabelEncoder()"
      ]
     },
     "execution_count": 244,
     "metadata": {},
     "output_type": "execute_result"
    }
   ],
   "source": [
    "le.fit(data1.State)"
   ]
  },
  {
   "cell_type": "code",
   "execution_count": 245,
   "id": "6ccb3ef4-fba0-4723-87ef-064a6716f0a7",
   "metadata": {},
   "outputs": [
    {
     "data": {
      "text/plain": [
       "array(['0', 'Alabama', 'Alaska', 'Arizona', 'Arkansas', 'California',\n",
       "       'Colorado', 'Connecticut', 'Delaware', 'Florida', 'Georgia',\n",
       "       'Hawaii', 'Idaho', 'Illinois', 'Indiana', 'Iowa', 'Kansas',\n",
       "       'Kentucky', 'Louisiana', 'Maine', 'Maryland', 'Massachusetts',\n",
       "       'Michigan', 'Minnesota', 'Mississippi', 'Missouri', 'Montana',\n",
       "       'Nebraska', 'Nevada', 'New Hampshire', 'New Jersey', 'New Mexico',\n",
       "       'New York', 'North Carolina', 'North Dakota', 'Ohio', 'Oklahoma',\n",
       "       'Oregon', 'Pennsylvania', 'Rhode Island', 'South Carolina',\n",
       "       'South Dakota', 'Tennessee', 'Texas', 'Utah', 'Vermont',\n",
       "       'Virginia', 'Washington', 'West Virginia', 'Wisconsin', 'Wyoming'],\n",
       "      dtype=object)"
      ]
     },
     "execution_count": 245,
     "metadata": {},
     "output_type": "execute_result"
    }
   ],
   "source": [
    "le.classes_"
   ]
  },
  {
   "cell_type": "code",
   "execution_count": 246,
   "id": "e638e576-8bd8-45a1-b98d-4019655045b9",
   "metadata": {},
   "outputs": [],
   "source": [
    "data1.State = le.transform(data1.State)"
   ]
  },
  {
   "cell_type": "code",
   "execution_count": 248,
   "id": "8d919a3d-8f50-44eb-83d1-bc34114b739a",
   "metadata": {},
   "outputs": [
    {
     "data": {
      "text/html": [
       "<div>\n",
       "<style scoped>\n",
       "    .dataframe tbody tr th:only-of-type {\n",
       "        vertical-align: middle;\n",
       "    }\n",
       "\n",
       "    .dataframe tbody tr th {\n",
       "        vertical-align: top;\n",
       "    }\n",
       "\n",
       "    .dataframe thead th {\n",
       "        text-align: right;\n",
       "    }\n",
       "</style>\n",
       "<table border=\"1\" class=\"dataframe\">\n",
       "  <thead>\n",
       "    <tr style=\"text-align: right;\">\n",
       "      <th></th>\n",
       "      <th>Retailer</th>\n",
       "      <th>Region</th>\n",
       "      <th>State</th>\n",
       "      <th>City</th>\n",
       "      <th>Product</th>\n",
       "      <th>Price_per_Unit</th>\n",
       "      <th>Units_Sold</th>\n",
       "      <th>Total_Sales</th>\n",
       "      <th>Operating_Profit</th>\n",
       "      <th>Operating_Margin</th>\n",
       "      <th>Sales_Method</th>\n",
       "      <th>Year</th>\n",
       "      <th>Month</th>\n",
       "      <th>Day</th>\n",
       "    </tr>\n",
       "  </thead>\n",
       "  <tbody>\n",
       "    <tr>\n",
       "      <th>7509</th>\n",
       "      <td>1</td>\n",
       "      <td>2</td>\n",
       "      <td>39</td>\n",
       "      <td>Providence</td>\n",
       "      <td>Men's Street Footwear</td>\n",
       "      <td>47</td>\n",
       "      <td>138</td>\n",
       "      <td>6,486</td>\n",
       "      <td>2919</td>\n",
       "      <td>0</td>\n",
       "      <td>3</td>\n",
       "      <td>2021</td>\n",
       "      <td>8</td>\n",
       "      <td>6</td>\n",
       "    </tr>\n",
       "  </tbody>\n",
       "</table>\n",
       "</div>"
      ],
      "text/plain": [
       "     Retailer  Region  State        City                Product  \\\n",
       "7509        1       2     39  Providence  Men's Street Footwear   \n",
       "\n",
       "      Price_per_Unit  Units_Sold  Total_Sales  Operating_Profit  \\\n",
       "7509              47         138        6,486              2919   \n",
       "\n",
       "      Operating_Margin  Sales_Method  Year  Month  Day  \n",
       "7509                 0             3  2021      8    6  "
      ]
     },
     "execution_count": 248,
     "metadata": {},
     "output_type": "execute_result"
    }
   ],
   "source": [
    "data1.sample()"
   ]
  },
  {
   "cell_type": "code",
   "execution_count": 249,
   "id": "d4b083ac-f1b4-47e7-9dcc-cfef3b272d35",
   "metadata": {},
   "outputs": [
    {
     "data": {
      "text/html": [
       "<style>#sk-container-id-2 {\n",
       "  /* Definition of color scheme common for light and dark mode */\n",
       "  --sklearn-color-text: #000;\n",
       "  --sklearn-color-text-muted: #666;\n",
       "  --sklearn-color-line: gray;\n",
       "  /* Definition of color scheme for unfitted estimators */\n",
       "  --sklearn-color-unfitted-level-0: #fff5e6;\n",
       "  --sklearn-color-unfitted-level-1: #f6e4d2;\n",
       "  --sklearn-color-unfitted-level-2: #ffe0b3;\n",
       "  --sklearn-color-unfitted-level-3: chocolate;\n",
       "  /* Definition of color scheme for fitted estimators */\n",
       "  --sklearn-color-fitted-level-0: #f0f8ff;\n",
       "  --sklearn-color-fitted-level-1: #d4ebff;\n",
       "  --sklearn-color-fitted-level-2: #b3dbfd;\n",
       "  --sklearn-color-fitted-level-3: cornflowerblue;\n",
       "\n",
       "  /* Specific color for light theme */\n",
       "  --sklearn-color-text-on-default-background: var(--sg-text-color, var(--theme-code-foreground, var(--jp-content-font-color1, black)));\n",
       "  --sklearn-color-background: var(--sg-background-color, var(--theme-background, var(--jp-layout-color0, white)));\n",
       "  --sklearn-color-border-box: var(--sg-text-color, var(--theme-code-foreground, var(--jp-content-font-color1, black)));\n",
       "  --sklearn-color-icon: #696969;\n",
       "\n",
       "  @media (prefers-color-scheme: dark) {\n",
       "    /* Redefinition of color scheme for dark theme */\n",
       "    --sklearn-color-text-on-default-background: var(--sg-text-color, var(--theme-code-foreground, var(--jp-content-font-color1, white)));\n",
       "    --sklearn-color-background: var(--sg-background-color, var(--theme-background, var(--jp-layout-color0, #111)));\n",
       "    --sklearn-color-border-box: var(--sg-text-color, var(--theme-code-foreground, var(--jp-content-font-color1, white)));\n",
       "    --sklearn-color-icon: #878787;\n",
       "  }\n",
       "}\n",
       "\n",
       "#sk-container-id-2 {\n",
       "  color: var(--sklearn-color-text);\n",
       "}\n",
       "\n",
       "#sk-container-id-2 pre {\n",
       "  padding: 0;\n",
       "}\n",
       "\n",
       "#sk-container-id-2 input.sk-hidden--visually {\n",
       "  border: 0;\n",
       "  clip: rect(1px 1px 1px 1px);\n",
       "  clip: rect(1px, 1px, 1px, 1px);\n",
       "  height: 1px;\n",
       "  margin: -1px;\n",
       "  overflow: hidden;\n",
       "  padding: 0;\n",
       "  position: absolute;\n",
       "  width: 1px;\n",
       "}\n",
       "\n",
       "#sk-container-id-2 div.sk-dashed-wrapped {\n",
       "  border: 1px dashed var(--sklearn-color-line);\n",
       "  margin: 0 0.4em 0.5em 0.4em;\n",
       "  box-sizing: border-box;\n",
       "  padding-bottom: 0.4em;\n",
       "  background-color: var(--sklearn-color-background);\n",
       "}\n",
       "\n",
       "#sk-container-id-2 div.sk-container {\n",
       "  /* jupyter's `normalize.less` sets `[hidden] { display: none; }`\n",
       "     but bootstrap.min.css set `[hidden] { display: none !important; }`\n",
       "     so we also need the `!important` here to be able to override the\n",
       "     default hidden behavior on the sphinx rendered scikit-learn.org.\n",
       "     See: https://github.com/scikit-learn/scikit-learn/issues/21755 */\n",
       "  display: inline-block !important;\n",
       "  position: relative;\n",
       "}\n",
       "\n",
       "#sk-container-id-2 div.sk-text-repr-fallback {\n",
       "  display: none;\n",
       "}\n",
       "\n",
       "div.sk-parallel-item,\n",
       "div.sk-serial,\n",
       "div.sk-item {\n",
       "  /* draw centered vertical line to link estimators */\n",
       "  background-image: linear-gradient(var(--sklearn-color-text-on-default-background), var(--sklearn-color-text-on-default-background));\n",
       "  background-size: 2px 100%;\n",
       "  background-repeat: no-repeat;\n",
       "  background-position: center center;\n",
       "}\n",
       "\n",
       "/* Parallel-specific style estimator block */\n",
       "\n",
       "#sk-container-id-2 div.sk-parallel-item::after {\n",
       "  content: \"\";\n",
       "  width: 100%;\n",
       "  border-bottom: 2px solid var(--sklearn-color-text-on-default-background);\n",
       "  flex-grow: 1;\n",
       "}\n",
       "\n",
       "#sk-container-id-2 div.sk-parallel {\n",
       "  display: flex;\n",
       "  align-items: stretch;\n",
       "  justify-content: center;\n",
       "  background-color: var(--sklearn-color-background);\n",
       "  position: relative;\n",
       "}\n",
       "\n",
       "#sk-container-id-2 div.sk-parallel-item {\n",
       "  display: flex;\n",
       "  flex-direction: column;\n",
       "}\n",
       "\n",
       "#sk-container-id-2 div.sk-parallel-item:first-child::after {\n",
       "  align-self: flex-end;\n",
       "  width: 50%;\n",
       "}\n",
       "\n",
       "#sk-container-id-2 div.sk-parallel-item:last-child::after {\n",
       "  align-self: flex-start;\n",
       "  width: 50%;\n",
       "}\n",
       "\n",
       "#sk-container-id-2 div.sk-parallel-item:only-child::after {\n",
       "  width: 0;\n",
       "}\n",
       "\n",
       "/* Serial-specific style estimator block */\n",
       "\n",
       "#sk-container-id-2 div.sk-serial {\n",
       "  display: flex;\n",
       "  flex-direction: column;\n",
       "  align-items: center;\n",
       "  background-color: var(--sklearn-color-background);\n",
       "  padding-right: 1em;\n",
       "  padding-left: 1em;\n",
       "}\n",
       "\n",
       "\n",
       "/* Toggleable style: style used for estimator/Pipeline/ColumnTransformer box that is\n",
       "clickable and can be expanded/collapsed.\n",
       "- Pipeline and ColumnTransformer use this feature and define the default style\n",
       "- Estimators will overwrite some part of the style using the `sk-estimator` class\n",
       "*/\n",
       "\n",
       "/* Pipeline and ColumnTransformer style (default) */\n",
       "\n",
       "#sk-container-id-2 div.sk-toggleable {\n",
       "  /* Default theme specific background. It is overwritten whether we have a\n",
       "  specific estimator or a Pipeline/ColumnTransformer */\n",
       "  background-color: var(--sklearn-color-background);\n",
       "}\n",
       "\n",
       "/* Toggleable label */\n",
       "#sk-container-id-2 label.sk-toggleable__label {\n",
       "  cursor: pointer;\n",
       "  display: flex;\n",
       "  width: 100%;\n",
       "  margin-bottom: 0;\n",
       "  padding: 0.5em;\n",
       "  box-sizing: border-box;\n",
       "  text-align: center;\n",
       "  align-items: start;\n",
       "  justify-content: space-between;\n",
       "  gap: 0.5em;\n",
       "}\n",
       "\n",
       "#sk-container-id-2 label.sk-toggleable__label .caption {\n",
       "  font-size: 0.6rem;\n",
       "  font-weight: lighter;\n",
       "  color: var(--sklearn-color-text-muted);\n",
       "}\n",
       "\n",
       "#sk-container-id-2 label.sk-toggleable__label-arrow:before {\n",
       "  /* Arrow on the left of the label */\n",
       "  content: \"▸\";\n",
       "  float: left;\n",
       "  margin-right: 0.25em;\n",
       "  color: var(--sklearn-color-icon);\n",
       "}\n",
       "\n",
       "#sk-container-id-2 label.sk-toggleable__label-arrow:hover:before {\n",
       "  color: var(--sklearn-color-text);\n",
       "}\n",
       "\n",
       "/* Toggleable content - dropdown */\n",
       "\n",
       "#sk-container-id-2 div.sk-toggleable__content {\n",
       "  max-height: 0;\n",
       "  max-width: 0;\n",
       "  overflow: hidden;\n",
       "  text-align: left;\n",
       "  /* unfitted */\n",
       "  background-color: var(--sklearn-color-unfitted-level-0);\n",
       "}\n",
       "\n",
       "#sk-container-id-2 div.sk-toggleable__content.fitted {\n",
       "  /* fitted */\n",
       "  background-color: var(--sklearn-color-fitted-level-0);\n",
       "}\n",
       "\n",
       "#sk-container-id-2 div.sk-toggleable__content pre {\n",
       "  margin: 0.2em;\n",
       "  border-radius: 0.25em;\n",
       "  color: var(--sklearn-color-text);\n",
       "  /* unfitted */\n",
       "  background-color: var(--sklearn-color-unfitted-level-0);\n",
       "}\n",
       "\n",
       "#sk-container-id-2 div.sk-toggleable__content.fitted pre {\n",
       "  /* unfitted */\n",
       "  background-color: var(--sklearn-color-fitted-level-0);\n",
       "}\n",
       "\n",
       "#sk-container-id-2 input.sk-toggleable__control:checked~div.sk-toggleable__content {\n",
       "  /* Expand drop-down */\n",
       "  max-height: 200px;\n",
       "  max-width: 100%;\n",
       "  overflow: auto;\n",
       "}\n",
       "\n",
       "#sk-container-id-2 input.sk-toggleable__control:checked~label.sk-toggleable__label-arrow:before {\n",
       "  content: \"▾\";\n",
       "}\n",
       "\n",
       "/* Pipeline/ColumnTransformer-specific style */\n",
       "\n",
       "#sk-container-id-2 div.sk-label input.sk-toggleable__control:checked~label.sk-toggleable__label {\n",
       "  color: var(--sklearn-color-text);\n",
       "  background-color: var(--sklearn-color-unfitted-level-2);\n",
       "}\n",
       "\n",
       "#sk-container-id-2 div.sk-label.fitted input.sk-toggleable__control:checked~label.sk-toggleable__label {\n",
       "  background-color: var(--sklearn-color-fitted-level-2);\n",
       "}\n",
       "\n",
       "/* Estimator-specific style */\n",
       "\n",
       "/* Colorize estimator box */\n",
       "#sk-container-id-2 div.sk-estimator input.sk-toggleable__control:checked~label.sk-toggleable__label {\n",
       "  /* unfitted */\n",
       "  background-color: var(--sklearn-color-unfitted-level-2);\n",
       "}\n",
       "\n",
       "#sk-container-id-2 div.sk-estimator.fitted input.sk-toggleable__control:checked~label.sk-toggleable__label {\n",
       "  /* fitted */\n",
       "  background-color: var(--sklearn-color-fitted-level-2);\n",
       "}\n",
       "\n",
       "#sk-container-id-2 div.sk-label label.sk-toggleable__label,\n",
       "#sk-container-id-2 div.sk-label label {\n",
       "  /* The background is the default theme color */\n",
       "  color: var(--sklearn-color-text-on-default-background);\n",
       "}\n",
       "\n",
       "/* On hover, darken the color of the background */\n",
       "#sk-container-id-2 div.sk-label:hover label.sk-toggleable__label {\n",
       "  color: var(--sklearn-color-text);\n",
       "  background-color: var(--sklearn-color-unfitted-level-2);\n",
       "}\n",
       "\n",
       "/* Label box, darken color on hover, fitted */\n",
       "#sk-container-id-2 div.sk-label.fitted:hover label.sk-toggleable__label.fitted {\n",
       "  color: var(--sklearn-color-text);\n",
       "  background-color: var(--sklearn-color-fitted-level-2);\n",
       "}\n",
       "\n",
       "/* Estimator label */\n",
       "\n",
       "#sk-container-id-2 div.sk-label label {\n",
       "  font-family: monospace;\n",
       "  font-weight: bold;\n",
       "  display: inline-block;\n",
       "  line-height: 1.2em;\n",
       "}\n",
       "\n",
       "#sk-container-id-2 div.sk-label-container {\n",
       "  text-align: center;\n",
       "}\n",
       "\n",
       "/* Estimator-specific */\n",
       "#sk-container-id-2 div.sk-estimator {\n",
       "  font-family: monospace;\n",
       "  border: 1px dotted var(--sklearn-color-border-box);\n",
       "  border-radius: 0.25em;\n",
       "  box-sizing: border-box;\n",
       "  margin-bottom: 0.5em;\n",
       "  /* unfitted */\n",
       "  background-color: var(--sklearn-color-unfitted-level-0);\n",
       "}\n",
       "\n",
       "#sk-container-id-2 div.sk-estimator.fitted {\n",
       "  /* fitted */\n",
       "  background-color: var(--sklearn-color-fitted-level-0);\n",
       "}\n",
       "\n",
       "/* on hover */\n",
       "#sk-container-id-2 div.sk-estimator:hover {\n",
       "  /* unfitted */\n",
       "  background-color: var(--sklearn-color-unfitted-level-2);\n",
       "}\n",
       "\n",
       "#sk-container-id-2 div.sk-estimator.fitted:hover {\n",
       "  /* fitted */\n",
       "  background-color: var(--sklearn-color-fitted-level-2);\n",
       "}\n",
       "\n",
       "/* Specification for estimator info (e.g. \"i\" and \"?\") */\n",
       "\n",
       "/* Common style for \"i\" and \"?\" */\n",
       "\n",
       ".sk-estimator-doc-link,\n",
       "a:link.sk-estimator-doc-link,\n",
       "a:visited.sk-estimator-doc-link {\n",
       "  float: right;\n",
       "  font-size: smaller;\n",
       "  line-height: 1em;\n",
       "  font-family: monospace;\n",
       "  background-color: var(--sklearn-color-background);\n",
       "  border-radius: 1em;\n",
       "  height: 1em;\n",
       "  width: 1em;\n",
       "  text-decoration: none !important;\n",
       "  margin-left: 0.5em;\n",
       "  text-align: center;\n",
       "  /* unfitted */\n",
       "  border: var(--sklearn-color-unfitted-level-1) 1pt solid;\n",
       "  color: var(--sklearn-color-unfitted-level-1);\n",
       "}\n",
       "\n",
       ".sk-estimator-doc-link.fitted,\n",
       "a:link.sk-estimator-doc-link.fitted,\n",
       "a:visited.sk-estimator-doc-link.fitted {\n",
       "  /* fitted */\n",
       "  border: var(--sklearn-color-fitted-level-1) 1pt solid;\n",
       "  color: var(--sklearn-color-fitted-level-1);\n",
       "}\n",
       "\n",
       "/* On hover */\n",
       "div.sk-estimator:hover .sk-estimator-doc-link:hover,\n",
       ".sk-estimator-doc-link:hover,\n",
       "div.sk-label-container:hover .sk-estimator-doc-link:hover,\n",
       ".sk-estimator-doc-link:hover {\n",
       "  /* unfitted */\n",
       "  background-color: var(--sklearn-color-unfitted-level-3);\n",
       "  color: var(--sklearn-color-background);\n",
       "  text-decoration: none;\n",
       "}\n",
       "\n",
       "div.sk-estimator.fitted:hover .sk-estimator-doc-link.fitted:hover,\n",
       ".sk-estimator-doc-link.fitted:hover,\n",
       "div.sk-label-container:hover .sk-estimator-doc-link.fitted:hover,\n",
       ".sk-estimator-doc-link.fitted:hover {\n",
       "  /* fitted */\n",
       "  background-color: var(--sklearn-color-fitted-level-3);\n",
       "  color: var(--sklearn-color-background);\n",
       "  text-decoration: none;\n",
       "}\n",
       "\n",
       "/* Span, style for the box shown on hovering the info icon */\n",
       ".sk-estimator-doc-link span {\n",
       "  display: none;\n",
       "  z-index: 9999;\n",
       "  position: relative;\n",
       "  font-weight: normal;\n",
       "  right: .2ex;\n",
       "  padding: .5ex;\n",
       "  margin: .5ex;\n",
       "  width: min-content;\n",
       "  min-width: 20ex;\n",
       "  max-width: 50ex;\n",
       "  color: var(--sklearn-color-text);\n",
       "  box-shadow: 2pt 2pt 4pt #999;\n",
       "  /* unfitted */\n",
       "  background: var(--sklearn-color-unfitted-level-0);\n",
       "  border: .5pt solid var(--sklearn-color-unfitted-level-3);\n",
       "}\n",
       "\n",
       ".sk-estimator-doc-link.fitted span {\n",
       "  /* fitted */\n",
       "  background: var(--sklearn-color-fitted-level-0);\n",
       "  border: var(--sklearn-color-fitted-level-3);\n",
       "}\n",
       "\n",
       ".sk-estimator-doc-link:hover span {\n",
       "  display: block;\n",
       "}\n",
       "\n",
       "/* \"?\"-specific style due to the `<a>` HTML tag */\n",
       "\n",
       "#sk-container-id-2 a.estimator_doc_link {\n",
       "  float: right;\n",
       "  font-size: 1rem;\n",
       "  line-height: 1em;\n",
       "  font-family: monospace;\n",
       "  background-color: var(--sklearn-color-background);\n",
       "  border-radius: 1rem;\n",
       "  height: 1rem;\n",
       "  width: 1rem;\n",
       "  text-decoration: none;\n",
       "  /* unfitted */\n",
       "  color: var(--sklearn-color-unfitted-level-1);\n",
       "  border: var(--sklearn-color-unfitted-level-1) 1pt solid;\n",
       "}\n",
       "\n",
       "#sk-container-id-2 a.estimator_doc_link.fitted {\n",
       "  /* fitted */\n",
       "  border: var(--sklearn-color-fitted-level-1) 1pt solid;\n",
       "  color: var(--sklearn-color-fitted-level-1);\n",
       "}\n",
       "\n",
       "/* On hover */\n",
       "#sk-container-id-2 a.estimator_doc_link:hover {\n",
       "  /* unfitted */\n",
       "  background-color: var(--sklearn-color-unfitted-level-3);\n",
       "  color: var(--sklearn-color-background);\n",
       "  text-decoration: none;\n",
       "}\n",
       "\n",
       "#sk-container-id-2 a.estimator_doc_link.fitted:hover {\n",
       "  /* fitted */\n",
       "  background-color: var(--sklearn-color-fitted-level-3);\n",
       "}\n",
       "</style><div id=\"sk-container-id-2\" class=\"sk-top-container\"><div class=\"sk-text-repr-fallback\"><pre>LabelEncoder()</pre><b>In a Jupyter environment, please rerun this cell to show the HTML representation or trust the notebook. <br />On GitHub, the HTML representation is unable to render, please try loading this page with nbviewer.org.</b></div><div class=\"sk-container\" hidden><div class=\"sk-item\"><div class=\"sk-estimator fitted sk-toggleable\"><input class=\"sk-toggleable__control sk-hidden--visually\" id=\"sk-estimator-id-2\" type=\"checkbox\" checked><label for=\"sk-estimator-id-2\" class=\"sk-toggleable__label fitted sk-toggleable__label-arrow\"><div><div>LabelEncoder</div></div><div><a class=\"sk-estimator-doc-link fitted\" rel=\"noreferrer\" target=\"_blank\" href=\"https://scikit-learn.org/1.6/modules/generated/sklearn.preprocessing.LabelEncoder.html\">?<span>Documentation for LabelEncoder</span></a><span class=\"sk-estimator-doc-link fitted\">i<span>Fitted</span></span></div></label><div class=\"sk-toggleable__content fitted\"><pre>LabelEncoder()</pre></div> </div></div></div></div>"
      ],
      "text/plain": [
       "LabelEncoder()"
      ]
     },
     "execution_count": 249,
     "metadata": {},
     "output_type": "execute_result"
    }
   ],
   "source": [
    "le.fit(data1.City)"
   ]
  },
  {
   "cell_type": "code",
   "execution_count": null,
   "id": "f52c1e3f-853a-4400-a68b-30e3d54b0bff",
   "metadata": {},
   "outputs": [],
   "source": []
  }
 ],
 "metadata": {
  "kernelspec": {
   "display_name": "Python 3 (ipykernel)",
   "language": "python",
   "name": "python3"
  },
  "language_info": {
   "codemirror_mode": {
    "name": "ipython",
    "version": 3
   },
   "file_extension": ".py",
   "mimetype": "text/x-python",
   "name": "python",
   "nbconvert_exporter": "python",
   "pygments_lexer": "ipython3",
   "version": "3.13.5"
  }
 },
 "nbformat": 4,
 "nbformat_minor": 5
}
